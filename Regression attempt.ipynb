{
 "cells": [
  {
   "cell_type": "markdown",
   "metadata": {},
   "source": [
    "### Load an image and pass it to a model"
   ]
  },
  {
   "cell_type": "code",
   "execution_count": 1,
   "metadata": {},
   "outputs": [],
   "source": [
    "from skimage import io, img_as_float, img_as_ubyte\n",
    "import torch\n",
    "import torch.nn as nn\n",
    "\n",
    "from torch.utils.data import Dataset\n",
    "from torch.utils.data import DataLoader\n",
    "from torchvision import transforms\n",
    "import torchvision.models as models\n",
    "import torch.nn.functional as F\n",
    "\n",
    "import matplotlib.pyplot as plt\n",
    "from glob import glob\n",
    "from PIL import Image"
   ]
  },
  {
   "cell_type": "code",
   "execution_count": 70,
   "metadata": {},
   "outputs": [],
   "source": [
    "minutes = 15\n",
    "#def name_to_hrs (r): return float(round(float(os.path.basename(r)[0:-4].split(\"_\")[1][1:])*(minutes/60)+5,2))\n",
    "def name_to_hrs (r): return float(round(float(os.path.basename(r)[0:-4].split(\"_\")[1][1:])*(minutes/60)+5,2))\n",
    "time = name_to_hrs('D:/pytorch/data/2D_FishAge_pytorch/images/S000_t000028_V000_R0005_X000_Y000_C02_I0_D0_P00344_MP.tif')\n",
    "device = 'cuda'"
   ]
  },
  {
   "cell_type": "code",
   "execution_count": 71,
   "metadata": {},
   "outputs": [
    {
     "data": {
      "text/plain": [
       "12.0"
      ]
     },
     "execution_count": 71,
     "metadata": {},
     "output_type": "execute_result"
    }
   ],
   "source": [
    "time\n",
    "#model = torch.hub.load('mateuszbuda/brain-segmentation-pytorch', 'unet', in_channels=1, out_channels=1, init_features=8, pretrained=True)"
   ]
  },
  {
   "cell_type": "code",
   "execution_count": 72,
   "metadata": {},
   "outputs": [
    {
     "name": "stderr",
     "output_type": "stream",
     "text": [
      "Using cache found in C:\\Users\\MichaelSNelson/.cache\\torch\\hub\\mateuszbuda_brain-segmentation-pytorch_master\n"
     ]
    },
    {
     "data": {
      "text/plain": [
       "Sequential(\n",
       "  (0): UNet(\n",
       "    (encoder1): Sequential(\n",
       "      (enc1conv1): Conv2d(1, 8, kernel_size=(3, 3), stride=(1, 1), padding=(1, 1), bias=False)\n",
       "      (enc1norm1): BatchNorm2d(8, eps=1e-05, momentum=0.1, affine=True, track_running_stats=True)\n",
       "      (enc1relu1): ReLU(inplace=True)\n",
       "      (enc1conv2): Conv2d(8, 8, kernel_size=(3, 3), stride=(1, 1), padding=(1, 1), bias=False)\n",
       "      (enc1norm2): BatchNorm2d(8, eps=1e-05, momentum=0.1, affine=True, track_running_stats=True)\n",
       "      (enc1relu2): ReLU(inplace=True)\n",
       "    )\n",
       "    (pool1): MaxPool2d(kernel_size=2, stride=2, padding=0, dilation=1, ceil_mode=False)\n",
       "    (encoder2): Sequential(\n",
       "      (enc2conv1): Conv2d(8, 16, kernel_size=(3, 3), stride=(1, 1), padding=(1, 1), bias=False)\n",
       "      (enc2norm1): BatchNorm2d(16, eps=1e-05, momentum=0.1, affine=True, track_running_stats=True)\n",
       "      (enc2relu1): ReLU(inplace=True)\n",
       "      (enc2conv2): Conv2d(16, 16, kernel_size=(3, 3), stride=(1, 1), padding=(1, 1), bias=False)\n",
       "      (enc2norm2): BatchNorm2d(16, eps=1e-05, momentum=0.1, affine=True, track_running_stats=True)\n",
       "      (enc2relu2): ReLU(inplace=True)\n",
       "    )\n",
       "    (pool2): MaxPool2d(kernel_size=2, stride=2, padding=0, dilation=1, ceil_mode=False)\n",
       "    (encoder3): Sequential(\n",
       "      (enc3conv1): Conv2d(16, 32, kernel_size=(3, 3), stride=(1, 1), padding=(1, 1), bias=False)\n",
       "      (enc3norm1): BatchNorm2d(32, eps=1e-05, momentum=0.1, affine=True, track_running_stats=True)\n",
       "      (enc3relu1): ReLU(inplace=True)\n",
       "      (enc3conv2): Conv2d(32, 32, kernel_size=(3, 3), stride=(1, 1), padding=(1, 1), bias=False)\n",
       "      (enc3norm2): BatchNorm2d(32, eps=1e-05, momentum=0.1, affine=True, track_running_stats=True)\n",
       "      (enc3relu2): ReLU(inplace=True)\n",
       "    )\n",
       "    (pool3): MaxPool2d(kernel_size=2, stride=2, padding=0, dilation=1, ceil_mode=False)\n",
       "    (encoder4): Sequential(\n",
       "      (enc4conv1): Conv2d(32, 64, kernel_size=(3, 3), stride=(1, 1), padding=(1, 1), bias=False)\n",
       "      (enc4norm1): BatchNorm2d(64, eps=1e-05, momentum=0.1, affine=True, track_running_stats=True)\n",
       "      (enc4relu1): ReLU(inplace=True)\n",
       "      (enc4conv2): Conv2d(64, 64, kernel_size=(3, 3), stride=(1, 1), padding=(1, 1), bias=False)\n",
       "      (enc4norm2): BatchNorm2d(64, eps=1e-05, momentum=0.1, affine=True, track_running_stats=True)\n",
       "      (enc4relu2): ReLU(inplace=True)\n",
       "    )\n",
       "    (pool4): MaxPool2d(kernel_size=2, stride=2, padding=0, dilation=1, ceil_mode=False)\n",
       "    (bottleneck): Sequential(\n",
       "      (bottleneckconv1): Conv2d(64, 128, kernel_size=(3, 3), stride=(1, 1), padding=(1, 1), bias=False)\n",
       "      (bottlenecknorm1): BatchNorm2d(128, eps=1e-05, momentum=0.1, affine=True, track_running_stats=True)\n",
       "      (bottleneckrelu1): ReLU(inplace=True)\n",
       "      (bottleneckconv2): Conv2d(128, 128, kernel_size=(3, 3), stride=(1, 1), padding=(1, 1), bias=False)\n",
       "      (bottlenecknorm2): BatchNorm2d(128, eps=1e-05, momentum=0.1, affine=True, track_running_stats=True)\n",
       "      (bottleneckrelu2): ReLU(inplace=True)\n",
       "    )\n",
       "    (upconv4): ConvTranspose2d(128, 64, kernel_size=(2, 2), stride=(2, 2))\n",
       "    (decoder4): Sequential(\n",
       "      (dec4conv1): Conv2d(128, 64, kernel_size=(3, 3), stride=(1, 1), padding=(1, 1), bias=False)\n",
       "      (dec4norm1): BatchNorm2d(64, eps=1e-05, momentum=0.1, affine=True, track_running_stats=True)\n",
       "      (dec4relu1): ReLU(inplace=True)\n",
       "      (dec4conv2): Conv2d(64, 64, kernel_size=(3, 3), stride=(1, 1), padding=(1, 1), bias=False)\n",
       "      (dec4norm2): BatchNorm2d(64, eps=1e-05, momentum=0.1, affine=True, track_running_stats=True)\n",
       "      (dec4relu2): ReLU(inplace=True)\n",
       "    )\n",
       "    (upconv3): ConvTranspose2d(64, 32, kernel_size=(2, 2), stride=(2, 2))\n",
       "    (decoder3): Sequential(\n",
       "      (dec3conv1): Conv2d(64, 32, kernel_size=(3, 3), stride=(1, 1), padding=(1, 1), bias=False)\n",
       "      (dec3norm1): BatchNorm2d(32, eps=1e-05, momentum=0.1, affine=True, track_running_stats=True)\n",
       "      (dec3relu1): ReLU(inplace=True)\n",
       "      (dec3conv2): Conv2d(32, 32, kernel_size=(3, 3), stride=(1, 1), padding=(1, 1), bias=False)\n",
       "      (dec3norm2): BatchNorm2d(32, eps=1e-05, momentum=0.1, affine=True, track_running_stats=True)\n",
       "      (dec3relu2): ReLU(inplace=True)\n",
       "    )\n",
       "    (upconv2): ConvTranspose2d(32, 16, kernel_size=(2, 2), stride=(2, 2))\n",
       "    (decoder2): Sequential(\n",
       "      (dec2conv1): Conv2d(32, 16, kernel_size=(3, 3), stride=(1, 1), padding=(1, 1), bias=False)\n",
       "      (dec2norm1): BatchNorm2d(16, eps=1e-05, momentum=0.1, affine=True, track_running_stats=True)\n",
       "      (dec2relu1): ReLU(inplace=True)\n",
       "      (dec2conv2): Conv2d(16, 16, kernel_size=(3, 3), stride=(1, 1), padding=(1, 1), bias=False)\n",
       "      (dec2norm2): BatchNorm2d(16, eps=1e-05, momentum=0.1, affine=True, track_running_stats=True)\n",
       "      (dec2relu2): ReLU(inplace=True)\n",
       "    )\n",
       "    (upconv1): ConvTranspose2d(16, 8, kernel_size=(2, 2), stride=(2, 2))\n",
       "    (decoder1): Sequential(\n",
       "      (dec1conv1): Conv2d(16, 8, kernel_size=(3, 3), stride=(1, 1), padding=(1, 1), bias=False)\n",
       "      (dec1norm1): BatchNorm2d(8, eps=1e-05, momentum=0.1, affine=True, track_running_stats=True)\n",
       "      (dec1relu1): ReLU(inplace=True)\n",
       "      (dec1conv2): Conv2d(8, 8, kernel_size=(3, 3), stride=(1, 1), padding=(1, 1), bias=False)\n",
       "      (dec1norm2): BatchNorm2d(8, eps=1e-05, momentum=0.1, affine=True, track_running_stats=True)\n",
       "      (dec1relu2): ReLU(inplace=True)\n",
       "    )\n",
       "    (conv): Conv2d(8, 1, kernel_size=(1, 1), stride=(1, 1))\n",
       "  )\n",
       "  (1): regression_net(\n",
       "    (conv1): Conv2d(1, 1, kernel_size=(1, 1), stride=(1, 1))\n",
       "    (pool): AdaptiveAvgPool2d(output_size=(32, 32))\n",
       "    (fc): Linear(in_features=1024, out_features=1, bias=True)\n",
       "  )\n",
       ")"
      ]
     },
     "execution_count": 72,
     "metadata": {},
     "output_type": "execute_result"
    }
   ],
   "source": [
    "model = torch.hub.load('mateuszbuda/brain-segmentation-pytorch', 'unet', in_channels=1, out_channels=1, init_features=8, pretrained=False)\n",
    "#add layers\n",
    "class regression_net(nn.Module):\n",
    "    def __init__(self):\n",
    "        super(regression_net, self).__init__()\n",
    "        self.conv1 = nn.Conv2d(1,1,kernel_size=(1, 1), stride=(1, 1))\n",
    "        self.pool = nn.AdaptiveAvgPool2d((32,32))\n",
    "        self.fc = nn.Linear(1024, 1)\n",
    "\n",
    "    def forward(self, x):\n",
    "        x = self.pool(F.relu(self.conv1(x)))\n",
    "        x= torch.flatten(x, 1)\n",
    "        #print(x.shape)\n",
    "        #Final age should be between 5 and 24 hours\n",
    "        x = 4.9+torch.sigmoid(self.fc(x))*19.1 \n",
    "        #print(x.shape)\n",
    "        #x = F.leaky_relu(self.fc(x))\n",
    "\n",
    "        return x\n",
    "\n",
    "regnet = regression_net()\n",
    "model = nn.Sequential(model, regnet)\n",
    "model.to(device)"
   ]
  },
  {
   "cell_type": "code",
   "execution_count": 73,
   "metadata": {},
   "outputs": [
    {
     "data": {
      "text/plain": [
       "torch.Size([1, 1])"
      ]
     },
     "execution_count": 73,
     "metadata": {},
     "output_type": "execute_result"
    }
   ],
   "source": [
    "model.to(device)\n",
    "input = torch.from_numpy( img )[None, None, :].float()\n",
    "input = input.to('cuda')\n",
    "output = model(input)\n",
    "output.shape"
   ]
  },
  {
   "cell_type": "code",
   "execution_count": 74,
   "metadata": {},
   "outputs": [
    {
     "data": {
      "text/plain": [
       "tensor([[14.4690]], device='cuda:0', grad_fn=<AddBackward0>)"
      ]
     },
     "execution_count": 74,
     "metadata": {},
     "output_type": "execute_result"
    }
   ],
   "source": [
    "output"
   ]
  },
  {
   "cell_type": "code",
   "execution_count": 75,
   "metadata": {},
   "outputs": [],
   "source": [
    "model.train()\n",
    "#def loss_fn (output, target): return 0.5*(output- target)**2\n",
    "loss_fn = nn.L1Loss()\n",
    "optimizer = torch.optim.SGD(model.parameters(), lr=1e-2) # 0.0001"
   ]
  },
  {
   "cell_type": "code",
   "execution_count": 76,
   "metadata": {},
   "outputs": [],
   "source": [
    "# imgs = glob('D:/pytorch/data/2D_Zebrafish/images/*.tif')\n",
    "# ages = [name_to_hrs(o) for o in masks]\n",
    "# for i, (img, age) in enumerate(zip(imgs, ages)):\n",
    "#     img = img_as_float(io.imread(img))\n",
    "#     input = torch.from_numpy( img ).unsqueeze(0).unsqueeze(0).float().cuda()\n",
    "#     target = age\n",
    "#     output = model(input)\n",
    "#     loss = loss_fn(output, target)\n",
    "#     optimizer.zero_grad()\n",
    "#     loss.backward()\n",
    "#     optimizer.step()\n",
    "#     loss, current = loss.item(), i\n",
    "#     print(f\"loss: {loss:>7f}  [{current:>5d}/{len(imgs):>5d}]\")"
   ]
  },
  {
   "cell_type": "markdown",
   "metadata": {},
   "source": [
    "### use dataloader"
   ]
  },
  {
   "cell_type": "code",
   "execution_count": 77,
   "metadata": {},
   "outputs": [],
   "source": [
    "# class ImageMaskPair(Dataset):\n",
    "#     def __init__(self, img_paths, mask_paths, transforms=None):\n",
    "#         self.img_paths = img_paths\n",
    "#         self.mask_paths = mask_paths\n",
    "#         if transforms is not None:\n",
    "#             self.transforms = transforms\n",
    "\n",
    "#     def __len__(self):\n",
    "#         return len(self.img_paths)\n",
    "\n",
    "#     def __getitem__(self, idx):\n",
    "#         img = img_as_float(io.imread(self.img_paths[idx]))\n",
    "#         mask = img_as_float(io.imread(self.mask_paths[idx]))\n",
    "#         mask[mask>0] = 1\n",
    "#         # img = torch.from_numpy( img )[None, :].float() # C x H x W\n",
    "#         # mask = torch.from_numpy( mask )[None, :].float() # C x H x W\n",
    "#         img = self.transforms(img)\n",
    "#         mask = self.transforms(mask)\n",
    "#         return img, mask"
   ]
  },
  {
   "cell_type": "code",
   "execution_count": 193,
   "metadata": {},
   "outputs": [],
   "source": [
    "pair_transforms = transforms.Compose([\n",
    "    \n",
    "    transforms.ToTensor(),\n",
    "    transforms.ConvertImageDtype(torch.float),\n",
    "    transforms.Resize((512,512)),\n",
    "    transforms.Normalize(mean = 0.5, std=0.5),\n",
    "    #transforms.ColorJitter(contrast = 0.2),\n",
    "    transforms.RandomVerticalFlip(0.3),\n",
    "    transforms.RandomHorizontalFlip(0.3),\n",
    "    transforms.RandomApply([transforms.RandomRotation((90,90))], p=0.5)\n",
    "\n",
    "])"
   ]
  },
  {
   "cell_type": "code",
   "execution_count": 194,
   "metadata": {},
   "outputs": [],
   "source": [
    "class ImageValuePair(Dataset):\n",
    "    def __init__(self, img_paths, transforms=None):\n",
    "        self.img_paths = img_paths\n",
    "        \n",
    "        if transforms is not None:\n",
    "            self.transforms = transforms\n",
    "\n",
    "    def __len__(self):\n",
    "        return len(self.img_paths)\n",
    "\n",
    "    def __getitem__(self, idx):\n",
    "        img = img_as_float(io.imread(self.img_paths[idx]))\n",
    "        age = torch.tensor(name_to_hrs(self.img_paths[idx]))\n",
    "        img = self.transforms(img)\n",
    "        return img, age"
   ]
  },
  {
   "cell_type": "code",
   "execution_count": 195,
   "metadata": {},
   "outputs": [],
   "source": [
    "device = 'cuda'\n",
    "def train(dataloader, model, loss_fn, optimizer):\n",
    "    size = len(dataloader.dataset)\n",
    "    model.train()\n",
    "    for batch, (X, y) in enumerate(dataloader):\n",
    "        X, y = X.to(device), y.to(device)\n",
    "        y = y.view(-1,1)\n",
    "        #print(X[200:250, 200:250])\n",
    "        # Compute prediction error\n",
    "        pred = model(X)\n",
    "\n",
    "        loss = loss_fn(pred, y)\n",
    "        # Backpropagation\n",
    "        optimizer.zero_grad()\n",
    "        loss.backward()\n",
    "        optimizer.step()\n",
    "        print(pred)\n",
    "        if batch % 10 == 0:\n",
    "            loss, current = loss.item(), batch * len(X)\n",
    "            print(f\"loss: {loss:>7f}  [{current:>5d}/{size:>5d}]\")\n",
    "\n",
    "def test(dataloader, model, loss_fn):\n",
    "    size = len(dataloader.dataset)\n",
    "    num_batches = len(dataloader)\n",
    "    model.eval()\n",
    "    test_loss, correct = 0, 0\n",
    "    with torch.no_grad():\n",
    "        for X, y in dataloader:\n",
    "            N = len(X)\n",
    "            #print(batchLen)\n",
    "            X, y = X.to(device), y.to(device)\n",
    "            pred = model(X) # N x 1 x H x W\n",
    "            test_loss += loss_fn(pred, y).item()\n",
    "            #print(f\"Actual:{y:>8f} \\n Pred: {pred:>8f} \\n\")\n",
    "    test_loss /= size\n",
    "    print(f\"Test Error: \\n Avg loss: {test_loss:>8f} \\n\")"
   ]
  },
  {
   "cell_type": "code",
   "execution_count": 196,
   "metadata": {},
   "outputs": [],
   "source": [
    "img_train_paths = glob('D:/pytorch/data/2D_FishAge_pytorch/images/*.tif')\n",
    "img_test_paths = glob('D:/pytorch/data/2D_FishAge_pytorch/testimages/*.tif')\n"
   ]
  },
  {
   "cell_type": "code",
   "execution_count": 197,
   "metadata": {},
   "outputs": [],
   "source": [
    "image_train = ImageValuePair(img_train_paths,  transforms=pair_transforms)\n",
    "train_dataloader = DataLoader(image_train, batch_size=2, shuffle=True)\n",
    "image_test= ImageValuePair(img_test_paths, transforms=pair_transforms)\n",
    "test_dataloader = DataLoader(image_test, batch_size=2, shuffle=True)"
   ]
  },
  {
   "cell_type": "code",
   "execution_count": 198,
   "metadata": {},
   "outputs": [],
   "source": [
    "train_images = next(iter(test_dataloader))"
   ]
  },
  {
   "cell_type": "code",
   "execution_count": 199,
   "metadata": {},
   "outputs": [
    {
     "name": "stdout",
     "output_type": "stream",
     "text": [
      "Feature batch shape: torch.Size([2, 1, 512, 512])\n"
     ]
    },
    {
     "data": {
      "image/png": "[encoded data removed]",
      "text/plain": [
       "<Figure size 432x288 with 1 Axes>"
      ]
     },
     "metadata": {
      "needs_background": "light"
     },
     "output_type": "display_data"
    },
    {
     "name": "stdout",
     "output_type": "stream",
     "text": [
      "tensor([12.0524], device='cuda:0', grad_fn=<SelectBackward0>)\n"
     ]
    }
   ],
   "source": [
    "#pick an image to view\n",
    "n=1\n",
    "\n",
    "train_images, train_ages= next(iter(test_dataloader))\n",
    "agesout = model(train_images.cuda())\n",
    "print(f\"Feature batch shape: {train_images.size()}\")\n",
    "img = train_images[n].squeeze()\n",
    "\n",
    "plt.imshow(img, cmap=\"gray\")\n",
    "plt.show()\n",
    "print(agesout[n])"
   ]
  },
  {
   "cell_type": "code",
   "execution_count": 170,
   "metadata": {},
   "outputs": [
    {
     "data": {
      "text/plain": [
       "tensor([ 8.2500, 10.0000])"
      ]
     },
     "execution_count": 170,
     "metadata": {},
     "output_type": "execute_result"
    }
   ],
   "source": [
    "train_ages"
   ]
  },
  {
   "cell_type": "code",
   "execution_count": 171,
   "metadata": {
    "scrolled": true
   },
   "outputs": [
    {
     "name": "stdout",
     "output_type": "stream",
     "text": [
      "Epoch 1\n",
      "-------------------------------\n",
      "tensor([[11.6918],\n",
      "        [11.6918]], device='cuda:0', grad_fn=<AddBackward0>)\n",
      "loss: 5.058183  [    0/ 1080]\n",
      "tensor([[11.8861],\n",
      "        [11.8862]], device='cuda:0', grad_fn=<AddBackward0>)\n",
      "tensor([[11.6908],\n",
      "        [11.6908]], device='cuda:0', grad_fn=<AddBackward0>)\n",
      "tensor([[11.4995],\n",
      "        [11.4995]], device='cuda:0', grad_fn=<AddBackward0>)\n",
      "tensor([[11.6884],\n",
      "        [11.6884]], device='cuda:0', grad_fn=<AddBackward0>)\n",
      "tensor([[11.6884],\n",
      "        [11.6884]], device='cuda:0', grad_fn=<AddBackward0>)\n",
      "tensor([[11.6884],\n",
      "        [11.6884]], device='cuda:0', grad_fn=<AddBackward0>)\n",
      "tensor([[11.6884],\n",
      "        [11.6884]], device='cuda:0', grad_fn=<AddBackward0>)\n",
      "tensor([[11.6884],\n",
      "        [11.6884]], device='cuda:0', grad_fn=<AddBackward0>)\n",
      "tensor([[11.4981],\n",
      "        [11.4981]], device='cuda:0', grad_fn=<AddBackward0>)\n",
      "tensor([[11.6859],\n",
      "        [11.6859]], device='cuda:0', grad_fn=<AddBackward0>)\n",
      "loss: 3.189073  [   20/ 1080]\n",
      "tensor([[11.8787],\n",
      "        [11.8787]], device='cuda:0', grad_fn=<AddBackward0>)\n",
      "tensor([[11.8787],\n",
      "        [11.8787]], device='cuda:0', grad_fn=<AddBackward0>)\n",
      "tensor([[11.8787],\n",
      "        [11.8787]], device='cuda:0', grad_fn=<AddBackward0>)\n",
      "tensor([[11.6835],\n",
      "        [11.6835]], device='cuda:0', grad_fn=<AddBackward0>)\n",
      "tensor([[11.4933],\n",
      "        [11.4933]], device='cuda:0', grad_fn=<AddBackward0>)\n",
      "tensor([[11.4933],\n",
      "        [11.4933]], device='cuda:0', grad_fn=<AddBackward0>)\n",
      "tensor([[11.4933],\n",
      "        [11.4933]], device='cuda:0', grad_fn=<AddBackward0>)\n",
      "tensor([[11.6811],\n",
      "        [11.6811]], device='cuda:0', grad_fn=<AddBackward0>)\n",
      "tensor([[11.8737],\n",
      "        [11.8737]], device='cuda:0', grad_fn=<AddBackward0>)\n",
      "tensor([[11.8737],\n",
      "        [11.8737]], device='cuda:0', grad_fn=<AddBackward0>)\n",
      "loss: 5.625000  [   40/ 1080]\n",
      "tensor([[11.8737],\n",
      "        [11.8737]], device='cuda:0', grad_fn=<AddBackward0>)\n",
      "tensor([[12.0710],\n",
      "        [12.0710]], device='cuda:0', grad_fn=<AddBackward0>)\n",
      "tensor([[12.0710],\n",
      "        [12.0710]], device='cuda:0', grad_fn=<AddBackward0>)\n",
      "tensor([[12.0710],\n",
      "        [12.0710]], device='cuda:0', grad_fn=<AddBackward0>)\n",
      "tensor([[12.0710],\n",
      "        [12.0710]], device='cuda:0', grad_fn=<AddBackward0>)\n",
      "tensor([[12.2729],\n",
      "        [12.2729]], device='cuda:0', grad_fn=<AddBackward0>)\n",
      "tensor([[12.2729],\n",
      "        [12.2729]], device='cuda:0', grad_fn=<AddBackward0>)\n",
      "tensor([[12.4789],\n",
      "        [12.4789]], device='cuda:0', grad_fn=<AddBackward0>)\n",
      "tensor([[12.4789],\n",
      "        [12.4789]], device='cuda:0', grad_fn=<AddBackward0>)\n",
      "tensor([[12.4789],\n",
      "        [12.4789]], device='cuda:0', grad_fn=<AddBackward0>)\n",
      "loss: 1.750000  [   60/ 1080]\n",
      "tensor([[12.4789],\n",
      "        [12.4789]], device='cuda:0', grad_fn=<AddBackward0>)\n",
      "tensor([[12.4789],\n",
      "        [12.4789]], device='cuda:0', grad_fn=<AddBackward0>)\n",
      "tensor([[12.4789],\n",
      "        [12.4789]], device='cuda:0', grad_fn=<AddBackward0>)\n",
      "tensor([[12.2709],\n",
      "        [12.2709]], device='cuda:0', grad_fn=<AddBackward0>)\n",
      "tensor([[12.0670],\n",
      "        [12.0670]], device='cuda:0', grad_fn=<AddBackward0>)\n",
      "tensor([[11.8676],\n",
      "        [11.8676]], device='cuda:0', grad_fn=<AddBackward0>)\n",
      "tensor([[12.0647],\n",
      "        [12.0647]], device='cuda:0', grad_fn=<AddBackward0>)\n",
      "tensor([[12.0647],\n",
      "        [12.0647]], device='cuda:0', grad_fn=<AddBackward0>)\n",
      "tensor([[12.0647],\n",
      "        [12.0647]], device='cuda:0', grad_fn=<AddBackward0>)\n",
      "tensor([[12.2663],\n",
      "        [12.2663]], device='cuda:0', grad_fn=<AddBackward0>)\n",
      "loss: 2.750000  [   80/ 1080]\n",
      "tensor([[12.2663],\n",
      "        [12.2663]], device='cuda:0', grad_fn=<AddBackward0>)\n",
      "tensor([[12.4722],\n",
      "        [12.4722]], device='cuda:0', grad_fn=<AddBackward0>)\n",
      "tensor([[12.2643],\n",
      "        [12.2643]], device='cuda:0', grad_fn=<AddBackward0>)\n",
      "tensor([[12.2643],\n",
      "        [12.2643]], device='cuda:0', grad_fn=<AddBackward0>)\n",
      "tensor([[12.2643],\n",
      "        [12.2643]], device='cuda:0', grad_fn=<AddBackward0>)\n",
      "tensor([[12.4701],\n",
      "        [12.4701]], device='cuda:0', grad_fn=<AddBackward0>)\n",
      "tensor([[12.2622],\n",
      "        [12.2622]], device='cuda:0', grad_fn=<AddBackward0>)\n",
      "tensor([[12.2622],\n",
      "        [12.2622]], device='cuda:0', grad_fn=<AddBackward0>)\n",
      "tensor([[12.4680],\n",
      "        [12.4680]], device='cuda:0', grad_fn=<AddBackward0>)\n",
      "tensor([[12.2602],\n",
      "        [12.2602]], device='cuda:0', grad_fn=<AddBackward0>)\n",
      "loss: 5.260186  [  100/ 1080]\n",
      "tensor([[12.0566],\n",
      "        [12.0566]], device='cuda:0', grad_fn=<AddBackward0>)\n"
     ]
    },
    {
     "ename": "KeyboardInterrupt",
     "evalue": "",
     "output_type": "error",
     "traceback": [
      "\u001b[1;31m---------------------------------------------------------------------------\u001b[0m",
      "\u001b[1;31mKeyboardInterrupt\u001b[0m                         Traceback (most recent call last)",
      "\u001b[1;32mc:\\Users\\MichaelSNelson\\OneDrive - UW-Madison\\GitHub_clones\\zebrafish_embryo_segmentation\\Regression attempt.ipynb Cell 20'\u001b[0m in \u001b[0;36m<cell line: 3>\u001b[1;34m()\u001b[0m\n\u001b[0;32m      <a href='vscode-notebook-cell:/c%3A/Users/MichaelSNelson/OneDrive%20-%20UW-Madison/GitHub_clones/zebrafish_embryo_segmentation/Regression%20attempt.ipynb#ch0000022?line=2'>3</a>\u001b[0m \u001b[39mfor\u001b[39;00m t \u001b[39min\u001b[39;00m \u001b[39mrange\u001b[39m(epochs):\n\u001b[0;32m      <a href='vscode-notebook-cell:/c%3A/Users/MichaelSNelson/OneDrive%20-%20UW-Madison/GitHub_clones/zebrafish_embryo_segmentation/Regression%20attempt.ipynb#ch0000022?line=3'>4</a>\u001b[0m     \u001b[39mprint\u001b[39m(\u001b[39mf\u001b[39m\u001b[39m\"\u001b[39m\u001b[39mEpoch \u001b[39m\u001b[39m{\u001b[39;00mt\u001b[39m+\u001b[39m\u001b[39m1\u001b[39m\u001b[39m}\u001b[39;00m\u001b[39m\\n\u001b[39;00m\u001b[39m-------------------------------\u001b[39m\u001b[39m\"\u001b[39m)\n\u001b[1;32m----> <a href='vscode-notebook-cell:/c%3A/Users/MichaelSNelson/OneDrive%20-%20UW-Madison/GitHub_clones/zebrafish_embryo_segmentation/Regression%20attempt.ipynb#ch0000022?line=4'>5</a>\u001b[0m     train(train_dataloader, model, loss_fn, optimizer)\n\u001b[0;32m      <a href='vscode-notebook-cell:/c%3A/Users/MichaelSNelson/OneDrive%20-%20UW-Madison/GitHub_clones/zebrafish_embryo_segmentation/Regression%20attempt.ipynb#ch0000022?line=5'>6</a>\u001b[0m     test(test_dataloader, model, loss_fn)\n\u001b[0;32m      <a href='vscode-notebook-cell:/c%3A/Users/MichaelSNelson/OneDrive%20-%20UW-Madison/GitHub_clones/zebrafish_embryo_segmentation/Regression%20attempt.ipynb#ch0000022?line=6'>7</a>\u001b[0m \u001b[39mprint\u001b[39m(\u001b[39m\"\u001b[39m\u001b[39mDone!\u001b[39m\u001b[39m\"\u001b[39m)\n",
      "\u001b[1;32mc:\\Users\\MichaelSNelson\\OneDrive - UW-Madison\\GitHub_clones\\zebrafish_embryo_segmentation\\Regression attempt.ipynb Cell 14'\u001b[0m in \u001b[0;36mtrain\u001b[1;34m(dataloader, model, loss_fn, optimizer)\u001b[0m\n\u001b[0;32m     <a href='vscode-notebook-cell:/c%3A/Users/MichaelSNelson/OneDrive%20-%20UW-Madison/GitHub_clones/zebrafish_embryo_segmentation/Regression%20attempt.ipynb#ch0000013?line=14'>15</a>\u001b[0m loss\u001b[39m.\u001b[39mbackward()\n\u001b[0;32m     <a href='vscode-notebook-cell:/c%3A/Users/MichaelSNelson/OneDrive%20-%20UW-Madison/GitHub_clones/zebrafish_embryo_segmentation/Regression%20attempt.ipynb#ch0000013?line=15'>16</a>\u001b[0m optimizer\u001b[39m.\u001b[39mstep()\n\u001b[1;32m---> <a href='vscode-notebook-cell:/c%3A/Users/MichaelSNelson/OneDrive%20-%20UW-Madison/GitHub_clones/zebrafish_embryo_segmentation/Regression%20attempt.ipynb#ch0000013?line=16'>17</a>\u001b[0m \u001b[39mprint\u001b[39;49m(pred)\n\u001b[0;32m     <a href='vscode-notebook-cell:/c%3A/Users/MichaelSNelson/OneDrive%20-%20UW-Madison/GitHub_clones/zebrafish_embryo_segmentation/Regression%20attempt.ipynb#ch0000013?line=17'>18</a>\u001b[0m \u001b[39mif\u001b[39;00m batch \u001b[39m%\u001b[39m \u001b[39m10\u001b[39m \u001b[39m==\u001b[39m \u001b[39m0\u001b[39m:\n\u001b[0;32m     <a href='vscode-notebook-cell:/c%3A/Users/MichaelSNelson/OneDrive%20-%20UW-Madison/GitHub_clones/zebrafish_embryo_segmentation/Regression%20attempt.ipynb#ch0000013?line=18'>19</a>\u001b[0m     loss, current \u001b[39m=\u001b[39m loss\u001b[39m.\u001b[39mitem(), batch \u001b[39m*\u001b[39m \u001b[39mlen\u001b[39m(X)\n",
      "File \u001b[1;32md:\\Anaconda\\envs\\fastai\\lib\\site-packages\\torch\\_tensor.py:305\u001b[0m, in \u001b[0;36mTensor.__repr__\u001b[1;34m(self)\u001b[0m\n\u001b[0;32m    303\u001b[0m     \u001b[39mreturn\u001b[39;00m handle_torch_function(Tensor\u001b[39m.\u001b[39m\u001b[39m__repr__\u001b[39m, (\u001b[39mself\u001b[39m,), \u001b[39mself\u001b[39m)\n\u001b[0;32m    304\u001b[0m \u001b[39m# All strings are unicode in Python 3.\u001b[39;00m\n\u001b[1;32m--> 305\u001b[0m \u001b[39mreturn\u001b[39;00m torch\u001b[39m.\u001b[39;49m_tensor_str\u001b[39m.\u001b[39;49m_str(\u001b[39mself\u001b[39;49m)\n",
      "File \u001b[1;32md:\\Anaconda\\envs\\fastai\\lib\\site-packages\\torch\\_tensor_str.py:434\u001b[0m, in \u001b[0;36m_str\u001b[1;34m(self)\u001b[0m\n\u001b[0;32m    432\u001b[0m \u001b[39mdef\u001b[39;00m \u001b[39m_str\u001b[39m(\u001b[39mself\u001b[39m):\n\u001b[0;32m    433\u001b[0m     \u001b[39mwith\u001b[39;00m torch\u001b[39m.\u001b[39mno_grad():\n\u001b[1;32m--> 434\u001b[0m         \u001b[39mreturn\u001b[39;00m _str_intern(\u001b[39mself\u001b[39;49m)\n",
      "File \u001b[1;32md:\\Anaconda\\envs\\fastai\\lib\\site-packages\\torch\\_tensor_str.py:409\u001b[0m, in \u001b[0;36m_str_intern\u001b[1;34m(inp)\u001b[0m\n\u001b[0;32m    407\u001b[0m                 tensor_str \u001b[39m=\u001b[39m _tensor_str(\u001b[39mself\u001b[39m\u001b[39m.\u001b[39mto_dense(), indent)\n\u001b[0;32m    408\u001b[0m             \u001b[39melse\u001b[39;00m:\n\u001b[1;32m--> 409\u001b[0m                 tensor_str \u001b[39m=\u001b[39m _tensor_str(\u001b[39mself\u001b[39;49m, indent)\n\u001b[0;32m    411\u001b[0m \u001b[39mif\u001b[39;00m \u001b[39mself\u001b[39m\u001b[39m.\u001b[39mlayout \u001b[39m!=\u001b[39m torch\u001b[39m.\u001b[39mstrided:\n\u001b[0;32m    412\u001b[0m     suffixes\u001b[39m.\u001b[39mappend(\u001b[39m'\u001b[39m\u001b[39mlayout=\u001b[39m\u001b[39m'\u001b[39m \u001b[39m+\u001b[39m \u001b[39mstr\u001b[39m(\u001b[39mself\u001b[39m\u001b[39m.\u001b[39mlayout))\n",
      "File \u001b[1;32md:\\Anaconda\\envs\\fastai\\lib\\site-packages\\torch\\_tensor_str.py:264\u001b[0m, in \u001b[0;36m_tensor_str\u001b[1;34m(self, indent)\u001b[0m\n\u001b[0;32m    262\u001b[0m     \u001b[39mreturn\u001b[39;00m _tensor_str_with_formatter(\u001b[39mself\u001b[39m, indent, summarize, real_formatter, imag_formatter)\n\u001b[0;32m    263\u001b[0m \u001b[39melse\u001b[39;00m:\n\u001b[1;32m--> 264\u001b[0m     formatter \u001b[39m=\u001b[39m _Formatter(get_summarized_data(\u001b[39mself\u001b[39;49m) \u001b[39mif\u001b[39;49;00m summarize \u001b[39melse\u001b[39;49;00m \u001b[39mself\u001b[39;49m)\n\u001b[0;32m    265\u001b[0m     \u001b[39mreturn\u001b[39;00m _tensor_str_with_formatter(\u001b[39mself\u001b[39m, indent, summarize, formatter)\n",
      "File \u001b[1;32md:\\Anaconda\\envs\\fastai\\lib\\site-packages\\torch\\_tensor_str.py:100\u001b[0m, in \u001b[0;36m_Formatter.__init__\u001b[1;34m(self, tensor)\u001b[0m\n\u001b[0;32m     97\u001b[0m         \u001b[39mself\u001b[39m\u001b[39m.\u001b[39mmax_width \u001b[39m=\u001b[39m \u001b[39mmax\u001b[39m(\u001b[39mself\u001b[39m\u001b[39m.\u001b[39mmax_width, \u001b[39mlen\u001b[39m(value_str))\n\u001b[0;32m     99\u001b[0m \u001b[39melse\u001b[39;00m:\n\u001b[1;32m--> 100\u001b[0m     nonzero_finite_vals \u001b[39m=\u001b[39m torch\u001b[39m.\u001b[39mmasked_select(tensor_view, torch\u001b[39m.\u001b[39misfinite(tensor_view) \u001b[39m&\u001b[39m tensor_view\u001b[39m.\u001b[39mne(\u001b[39m0\u001b[39m))\n\u001b[0;32m    102\u001b[0m     \u001b[39mif\u001b[39;00m nonzero_finite_vals\u001b[39m.\u001b[39mnumel() \u001b[39m==\u001b[39m \u001b[39m0\u001b[39m:\n\u001b[0;32m    103\u001b[0m         \u001b[39m# no valid number, do nothing\u001b[39;00m\n\u001b[0;32m    104\u001b[0m         \u001b[39mreturn\u001b[39;00m\n",
      "\u001b[1;31mKeyboardInterrupt\u001b[0m: "
     ]
    }
   ],
   "source": [
    "\n",
    "optimizer = torch.optim.SGD(model.parameters(), lr=1e-2) # 0.0001\n",
    "epochs = 10\n",
    "for t in range(epochs):\n",
    "    print(f\"Epoch {t+1}\\n-------------------------------\")\n",
    "    train(train_dataloader, model, loss_fn, optimizer)\n",
    "    test(test_dataloader, model, loss_fn)\n",
    "print(\"Done!\")"
   ]
  },
  {
   "cell_type": "code",
   "execution_count": null,
   "metadata": {},
   "outputs": [],
   "source": []
  },
  {
   "cell_type": "code",
   "execution_count": null,
   "metadata": {},
   "outputs": [],
   "source": []
  }
 ],
 "metadata": {
  "kernelspec": {
   "display_name": "Python 3.10.4 ('fastai')",
   "language": "python",
   "name": "python3"
  },
  "language_info": {
   "codemirror_mode": {
    "name": "ipython",
    "version": 3
   },
   "file_extension": ".py",
   "mimetype": "text/x-python",
   "name": "python",
   "nbconvert_exporter": "python",
   "pygments_lexer": "ipython3",
   "version": "3.10.4"
  },
  "vscode": {
   "interpreter": {
    "hash": "feae056ab4b12a897e2e38ddf084e6c647046213eebbfe8242c21e04b9fad718"
   }
  }
 },
 "nbformat": 4,
 "nbformat_minor": 2
}
