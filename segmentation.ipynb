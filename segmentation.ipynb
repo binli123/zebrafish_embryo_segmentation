{
 "cells": [
  {
   "cell_type": "markdown",
   "metadata": {},
   "source": [
    "### Load an image and pass it to a model"
   ]
  },
  {
   "cell_type": "code",
   "execution_count": 1,
   "metadata": {},
   "outputs": [],
   "source": [
    "from skimage import io, img_as_float, img_as_ubyte\n",
    "import torch\n",
    "import torch.nn as nn\n",
    "import matplotlib.pyplot as plt\n",
    "from glob import glob"
   ]
  },
  {
   "cell_type": "code",
   "execution_count": 31,
   "metadata": {},
   "outputs": [],
   "source": [
    "#img = img_as_float(io.imread('dataset/DIC-HeLa/training/images/t000.tif'))\n",
    "mask = img_as_float(io.imread('D:/pytorch/data/2D_Zebrafish/labels/embryo1_001_annotationLabels.png'))"
   ]
  },
  {
   "cell_type": "code",
   "execution_count": 33,
   "metadata": {},
   "outputs": [
    {
     "data": {
      "text/plain": [
       "(512, 512, 4)"
      ]
     },
     "execution_count": 33,
     "metadata": {},
     "output_type": "execute_result"
    }
   ],
   "source": [
    "mask.shape"
   ]
  },
  {
   "cell_type": "code",
   "execution_count": 32,
   "metadata": {},
   "outputs": [
    {
     "data": {
      "text/plain": [
       "<matplotlib.image.AxesImage at 0x1ea7da0e2f0>"
      ]
     },
     "execution_count": 32,
     "metadata": {},
     "output_type": "execute_result"
    },
    {
     "data": {
      "image/png": "[encoded data removed]",
      "text/plain": [
       "<Figure size 720x720 with 2 Axes>"
      ]
     },
     "metadata": {
      "needs_background": "light"
     },
     "output_type": "display_data"
    }
   ],
   "source": [
    "fix, ax = plt.subplots(1, 2, figsize=(10, 10))\n",
    "#ax[0].imshow(img)\n",
    "ax[1].imshow(mask)"
   ]
  },
  {
   "cell_type": "code",
   "execution_count": 34,
   "metadata": {
    "scrolled": true
   },
   "outputs": [
    {
     "name": "stderr",
     "output_type": "stream",
     "text": [
      "Using cache found in C:\\Users\\MichaelSNelson/.cache\\torch\\hub\\mateuszbuda_brain-segmentation-pytorch_master\n"
     ]
    }
   ],
   "source": [
    "model = torch.hub.load('mateuszbuda/brain-segmentation-pytorch', 'unet', in_channels=1, out_channels=1, init_features=8, pretrained=False)"
   ]
  },
  {
   "cell_type": "code",
   "execution_count": 35,
   "metadata": {},
   "outputs": [
    {
     "data": {
      "text/plain": [
       "UNet(\n",
       "  (encoder1): Sequential(\n",
       "    (enc1conv1): Conv2d(1, 8, kernel_size=(3, 3), stride=(1, 1), padding=(1, 1), bias=False)\n",
       "    (enc1norm1): BatchNorm2d(8, eps=1e-05, momentum=0.1, affine=True, track_running_stats=True)\n",
       "    (enc1relu1): ReLU(inplace=True)\n",
       "    (enc1conv2): Conv2d(8, 8, kernel_size=(3, 3), stride=(1, 1), padding=(1, 1), bias=False)\n",
       "    (enc1norm2): BatchNorm2d(8, eps=1e-05, momentum=0.1, affine=True, track_running_stats=True)\n",
       "    (enc1relu2): ReLU(inplace=True)\n",
       "  )\n",
       "  (pool1): MaxPool2d(kernel_size=2, stride=2, padding=0, dilation=1, ceil_mode=False)\n",
       "  (encoder2): Sequential(\n",
       "    (enc2conv1): Conv2d(8, 16, kernel_size=(3, 3), stride=(1, 1), padding=(1, 1), bias=False)\n",
       "    (enc2norm1): BatchNorm2d(16, eps=1e-05, momentum=0.1, affine=True, track_running_stats=True)\n",
       "    (enc2relu1): ReLU(inplace=True)\n",
       "    (enc2conv2): Conv2d(16, 16, kernel_size=(3, 3), stride=(1, 1), padding=(1, 1), bias=False)\n",
       "    (enc2norm2): BatchNorm2d(16, eps=1e-05, momentum=0.1, affine=True, track_running_stats=True)\n",
       "    (enc2relu2): ReLU(inplace=True)\n",
       "  )\n",
       "  (pool2): MaxPool2d(kernel_size=2, stride=2, padding=0, dilation=1, ceil_mode=False)\n",
       "  (encoder3): Sequential(\n",
       "    (enc3conv1): Conv2d(16, 32, kernel_size=(3, 3), stride=(1, 1), padding=(1, 1), bias=False)\n",
       "    (enc3norm1): BatchNorm2d(32, eps=1e-05, momentum=0.1, affine=True, track_running_stats=True)\n",
       "    (enc3relu1): ReLU(inplace=True)\n",
       "    (enc3conv2): Conv2d(32, 32, kernel_size=(3, 3), stride=(1, 1), padding=(1, 1), bias=False)\n",
       "    (enc3norm2): BatchNorm2d(32, eps=1e-05, momentum=0.1, affine=True, track_running_stats=True)\n",
       "    (enc3relu2): ReLU(inplace=True)\n",
       "  )\n",
       "  (pool3): MaxPool2d(kernel_size=2, stride=2, padding=0, dilation=1, ceil_mode=False)\n",
       "  (encoder4): Sequential(\n",
       "    (enc4conv1): Conv2d(32, 64, kernel_size=(3, 3), stride=(1, 1), padding=(1, 1), bias=False)\n",
       "    (enc4norm1): BatchNorm2d(64, eps=1e-05, momentum=0.1, affine=True, track_running_stats=True)\n",
       "    (enc4relu1): ReLU(inplace=True)\n",
       "    (enc4conv2): Conv2d(64, 64, kernel_size=(3, 3), stride=(1, 1), padding=(1, 1), bias=False)\n",
       "    (enc4norm2): BatchNorm2d(64, eps=1e-05, momentum=0.1, affine=True, track_running_stats=True)\n",
       "    (enc4relu2): ReLU(inplace=True)\n",
       "  )\n",
       "  (pool4): MaxPool2d(kernel_size=2, stride=2, padding=0, dilation=1, ceil_mode=False)\n",
       "  (bottleneck): Sequential(\n",
       "    (bottleneckconv1): Conv2d(64, 128, kernel_size=(3, 3), stride=(1, 1), padding=(1, 1), bias=False)\n",
       "    (bottlenecknorm1): BatchNorm2d(128, eps=1e-05, momentum=0.1, affine=True, track_running_stats=True)\n",
       "    (bottleneckrelu1): ReLU(inplace=True)\n",
       "    (bottleneckconv2): Conv2d(128, 128, kernel_size=(3, 3), stride=(1, 1), padding=(1, 1), bias=False)\n",
       "    (bottlenecknorm2): BatchNorm2d(128, eps=1e-05, momentum=0.1, affine=True, track_running_stats=True)\n",
       "    (bottleneckrelu2): ReLU(inplace=True)\n",
       "  )\n",
       "  (upconv4): ConvTranspose2d(128, 64, kernel_size=(2, 2), stride=(2, 2))\n",
       "  (decoder4): Sequential(\n",
       "    (dec4conv1): Conv2d(128, 64, kernel_size=(3, 3), stride=(1, 1), padding=(1, 1), bias=False)\n",
       "    (dec4norm1): BatchNorm2d(64, eps=1e-05, momentum=0.1, affine=True, track_running_stats=True)\n",
       "    (dec4relu1): ReLU(inplace=True)\n",
       "    (dec4conv2): Conv2d(64, 64, kernel_size=(3, 3), stride=(1, 1), padding=(1, 1), bias=False)\n",
       "    (dec4norm2): BatchNorm2d(64, eps=1e-05, momentum=0.1, affine=True, track_running_stats=True)\n",
       "    (dec4relu2): ReLU(inplace=True)\n",
       "  )\n",
       "  (upconv3): ConvTranspose2d(64, 32, kernel_size=(2, 2), stride=(2, 2))\n",
       "  (decoder3): Sequential(\n",
       "    (dec3conv1): Conv2d(64, 32, kernel_size=(3, 3), stride=(1, 1), padding=(1, 1), bias=False)\n",
       "    (dec3norm1): BatchNorm2d(32, eps=1e-05, momentum=0.1, affine=True, track_running_stats=True)\n",
       "    (dec3relu1): ReLU(inplace=True)\n",
       "    (dec3conv2): Conv2d(32, 32, kernel_size=(3, 3), stride=(1, 1), padding=(1, 1), bias=False)\n",
       "    (dec3norm2): BatchNorm2d(32, eps=1e-05, momentum=0.1, affine=True, track_running_stats=True)\n",
       "    (dec3relu2): ReLU(inplace=True)\n",
       "  )\n",
       "  (upconv2): ConvTranspose2d(32, 16, kernel_size=(2, 2), stride=(2, 2))\n",
       "  (decoder2): Sequential(\n",
       "    (dec2conv1): Conv2d(32, 16, kernel_size=(3, 3), stride=(1, 1), padding=(1, 1), bias=False)\n",
       "    (dec2norm1): BatchNorm2d(16, eps=1e-05, momentum=0.1, affine=True, track_running_stats=True)\n",
       "    (dec2relu1): ReLU(inplace=True)\n",
       "    (dec2conv2): Conv2d(16, 16, kernel_size=(3, 3), stride=(1, 1), padding=(1, 1), bias=False)\n",
       "    (dec2norm2): BatchNorm2d(16, eps=1e-05, momentum=0.1, affine=True, track_running_stats=True)\n",
       "    (dec2relu2): ReLU(inplace=True)\n",
       "  )\n",
       "  (upconv1): ConvTranspose2d(16, 8, kernel_size=(2, 2), stride=(2, 2))\n",
       "  (decoder1): Sequential(\n",
       "    (dec1conv1): Conv2d(16, 8, kernel_size=(3, 3), stride=(1, 1), padding=(1, 1), bias=False)\n",
       "    (dec1norm1): BatchNorm2d(8, eps=1e-05, momentum=0.1, affine=True, track_running_stats=True)\n",
       "    (dec1relu1): ReLU(inplace=True)\n",
       "    (dec1conv2): Conv2d(8, 8, kernel_size=(3, 3), stride=(1, 1), padding=(1, 1), bias=False)\n",
       "    (dec1norm2): BatchNorm2d(8, eps=1e-05, momentum=0.1, affine=True, track_running_stats=True)\n",
       "    (dec1relu2): ReLU(inplace=True)\n",
       "  )\n",
       "  (conv): Conv2d(8, 1, kernel_size=(1, 1), stride=(1, 1))\n",
       ")"
      ]
     },
     "execution_count": 35,
     "metadata": {},
     "output_type": "execute_result"
    }
   ],
   "source": [
    "model.to('cuda')"
   ]
  },
  {
   "cell_type": "code",
   "execution_count": 4,
   "metadata": {},
   "outputs": [
    {
     "ename": "NameError",
     "evalue": "name 'img' is not defined",
     "output_type": "error",
     "traceback": [
      "\u001b[1;31m---------------------------------------------------------------------------\u001b[0m",
      "\u001b[1;31mNameError\u001b[0m                                 Traceback (most recent call last)",
      "Input \u001b[1;32mIn [4]\u001b[0m, in \u001b[0;36m<cell line: 1>\u001b[1;34m()\u001b[0m\n\u001b[1;32m----> 1\u001b[0m \u001b[38;5;28minput\u001b[39m \u001b[38;5;241m=\u001b[39m torch\u001b[38;5;241m.\u001b[39mfrom_numpy( \u001b[43mimg\u001b[49m )[\u001b[38;5;28;01mNone\u001b[39;00m, \u001b[38;5;28;01mNone\u001b[39;00m, :]\u001b[38;5;241m.\u001b[39mfloat()\n\u001b[0;32m      2\u001b[0m \u001b[38;5;28minput\u001b[39m \u001b[38;5;241m=\u001b[39m \u001b[38;5;28minput\u001b[39m\u001b[38;5;241m.\u001b[39mto(\u001b[38;5;124m'\u001b[39m\u001b[38;5;124mcuda\u001b[39m\u001b[38;5;124m'\u001b[39m)\n\u001b[0;32m      3\u001b[0m output \u001b[38;5;241m=\u001b[39m model(\u001b[38;5;28minput\u001b[39m)\n",
      "\u001b[1;31mNameError\u001b[0m: name 'img' is not defined"
     ]
    }
   ],
   "source": [
    "input = torch.from_numpy( img )[None, None, :].float()\n",
    "input = input.to('cuda')\n",
    "output = model(input)"
   ]
  },
  {
   "cell_type": "code",
   "execution_count": 36,
   "metadata": {},
   "outputs": [],
   "source": [
    "model.train()\n",
    "loss_fn = nn.BCEWithLogitsLoss()\n",
    "optimizer = torch.optim.SGD(model.parameters(), lr=1e-3) # 0.0001"
   ]
  },
  {
   "cell_type": "code",
   "execution_count": 41,
   "metadata": {},
   "outputs": [
    {
     "name": "stdout",
     "output_type": "stream",
     "text": [
      "loss: 0.876348  [    0/  160]\n",
      "loss: 0.859429  [    1/  160]\n",
      "loss: 0.833134  [    2/  160]\n",
      "loss: 0.816083  [    3/  160]\n",
      "loss: 0.813896  [    4/  160]\n",
      "loss: 0.812618  [    5/  160]\n",
      "loss: 0.811321  [    6/  160]\n",
      "loss: 0.810300  [    7/  160]\n",
      "loss: 0.807953  [    8/  160]\n",
      "loss: 0.805753  [    9/  160]\n",
      "loss: 0.791528  [   10/  160]\n",
      "loss: 0.767661  [   11/  160]\n",
      "loss: 0.757942  [   12/  160]\n",
      "loss: 0.777062  [   13/  160]\n",
      "loss: 0.793060  [   14/  160]\n",
      "loss: 0.752270  [   15/  160]\n",
      "loss: 0.879506  [   16/  160]\n",
      "loss: 0.846663  [   17/  160]\n",
      "loss: 0.863814  [   18/  160]\n",
      "loss: 0.827452  [   19/  160]\n",
      "loss: 0.814280  [   20/  160]\n",
      "loss: 0.806886  [   21/  160]\n",
      "loss: 0.801241  [   22/  160]\n",
      "loss: 0.797506  [   23/  160]\n",
      "loss: 0.798154  [   24/  160]\n",
      "loss: 0.782531  [   25/  160]\n",
      "loss: 0.770491  [   26/  160]\n",
      "loss: 0.775648  [   27/  160]\n",
      "loss: 0.768790  [   28/  160]\n",
      "loss: 0.766306  [   29/  160]\n",
      "loss: 0.801423  [   30/  160]\n",
      "loss: 0.728325  [   31/  160]\n",
      "loss: 0.878907  [   32/  160]\n",
      "loss: 0.856246  [   33/  160]\n",
      "loss: 0.833107  [   34/  160]\n",
      "loss: 0.823283  [   35/  160]\n",
      "loss: 0.808814  [   36/  160]\n",
      "loss: 0.808719  [   37/  160]\n",
      "loss: 0.803838  [   38/  160]\n",
      "loss: 0.799082  [   39/  160]\n",
      "loss: 0.800744  [   40/  160]\n",
      "loss: 0.793108  [   41/  160]\n",
      "loss: 0.785081  [   42/  160]\n",
      "loss: 0.779960  [   43/  160]\n",
      "loss: 0.760072  [   44/  160]\n",
      "loss: 0.757810  [   45/  160]\n",
      "loss: 0.796702  [   46/  160]\n",
      "loss: 0.745794  [   47/  160]\n",
      "loss: 0.871296  [   48/  160]\n",
      "loss: 0.840247  [   49/  160]\n",
      "loss: 0.838287  [   50/  160]\n",
      "loss: 0.839537  [   51/  160]\n",
      "loss: 0.815345  [   52/  160]\n",
      "loss: 0.800946  [   53/  160]\n",
      "loss: 0.802981  [   54/  160]\n",
      "loss: 0.803871  [   55/  160]\n",
      "loss: 0.796623  [   56/  160]\n",
      "loss: 0.783228  [   57/  160]\n",
      "loss: 0.776324  [   58/  160]\n",
      "loss: 0.766423  [   59/  160]\n",
      "loss: 0.763591  [   60/  160]\n",
      "loss: 0.800984  [   61/  160]\n",
      "loss: 0.792433  [   62/  160]\n",
      "loss: 0.786657  [   63/  160]\n",
      "loss: 0.863907  [   64/  160]\n",
      "loss: 0.844467  [   65/  160]\n",
      "loss: 0.821199  [   66/  160]\n",
      "loss: 0.832276  [   67/  160]\n",
      "loss: 0.812019  [   68/  160]\n",
      "loss: 0.799817  [   69/  160]\n",
      "loss: 0.802600  [   70/  160]\n",
      "loss: 0.801681  [   71/  160]\n",
      "loss: 0.798955  [   72/  160]\n",
      "loss: 0.789738  [   73/  160]\n",
      "loss: 0.788696  [   74/  160]\n",
      "loss: 0.784095  [   75/  160]\n",
      "loss: 0.778538  [   76/  160]\n",
      "loss: 0.775024  [   77/  160]\n",
      "loss: 0.794664  [   78/  160]\n",
      "loss: 0.785799  [   79/  160]\n",
      "loss: 0.875908  [   80/  160]\n",
      "loss: 0.864144  [   81/  160]\n",
      "loss: 0.835196  [   82/  160]\n",
      "loss: 0.807697  [   83/  160]\n",
      "loss: 0.801789  [   84/  160]\n",
      "loss: 0.799608  [   85/  160]\n",
      "loss: 0.797046  [   86/  160]\n",
      "loss: 0.791901  [   87/  160]\n",
      "loss: 0.790564  [   88/  160]\n",
      "loss: 0.789564  [   89/  160]\n",
      "loss: 0.786651  [   90/  160]\n",
      "loss: 0.784161  [   91/  160]\n",
      "loss: 0.765172  [   92/  160]\n",
      "loss: 0.774023  [   93/  160]\n",
      "loss: 0.756242  [   94/  160]\n",
      "loss: 0.732284  [   95/  160]\n",
      "loss: 0.876120  [   96/  160]\n",
      "loss: 0.846056  [   97/  160]\n",
      "loss: 0.837285  [   98/  160]\n",
      "loss: 0.821360  [   99/  160]\n",
      "loss: 0.807897  [  100/  160]\n",
      "loss: 0.803127  [  101/  160]\n",
      "loss: 0.799986  [  102/  160]\n",
      "loss: 0.799957  [  103/  160]\n",
      "loss: 0.796123  [  104/  160]\n",
      "loss: 0.792425  [  105/  160]\n",
      "loss: 0.787986  [  106/  160]\n",
      "loss: 0.784342  [  107/  160]\n",
      "loss: 0.776935  [  108/  160]\n",
      "loss: 0.759368  [  109/  160]\n",
      "loss: 0.763460  [  110/  160]\n",
      "loss: 0.766626  [  111/  160]\n",
      "loss: 0.884490  [  112/  160]\n",
      "loss: 0.847304  [  113/  160]\n",
      "loss: 0.813076  [  114/  160]\n",
      "loss: 0.803351  [  115/  160]\n",
      "loss: 0.800697  [  116/  160]\n",
      "loss: 0.795112  [  117/  160]\n",
      "loss: 0.793036  [  118/  160]\n",
      "loss: 0.792693  [  119/  160]\n",
      "loss: 0.790566  [  120/  160]\n",
      "loss: 0.789349  [  121/  160]\n",
      "loss: 0.780004  [  122/  160]\n",
      "loss: 0.778696  [  123/  160]\n",
      "loss: 0.771727  [  124/  160]\n",
      "loss: 0.759481  [  125/  160]\n",
      "loss: 0.761152  [  126/  160]\n",
      "loss: 0.742453  [  127/  160]\n",
      "loss: 0.872869  [  128/  160]\n",
      "loss: 0.854741  [  129/  160]\n",
      "loss: 0.824177  [  130/  160]\n",
      "loss: 0.811495  [  131/  160]\n",
      "loss: 0.798992  [  132/  160]\n",
      "loss: 0.795120  [  133/  160]\n",
      "loss: 0.791226  [  134/  160]\n",
      "loss: 0.790434  [  135/  160]\n",
      "loss: 0.787514  [  136/  160]\n",
      "loss: 0.779016  [  137/  160]\n",
      "loss: 0.769814  [  138/  160]\n",
      "loss: 0.767288  [  139/  160]\n",
      "loss: 0.762008  [  140/  160]\n",
      "loss: 0.763437  [  141/  160]\n",
      "loss: 0.754345  [  142/  160]\n",
      "loss: 0.729847  [  143/  160]\n",
      "loss: 0.915863  [  144/  160]\n",
      "loss: 0.843230  [  145/  160]\n",
      "loss: 0.832950  [  146/  160]\n",
      "loss: 0.819986  [  147/  160]\n",
      "loss: 0.806460  [  148/  160]\n",
      "loss: 0.806454  [  149/  160]\n",
      "loss: 0.804541  [  150/  160]\n",
      "loss: 0.800822  [  151/  160]\n",
      "loss: 0.797740  [  152/  160]\n",
      "loss: 0.796243  [  153/  160]\n",
      "loss: 0.790052  [  154/  160]\n",
      "loss: 0.781636  [  155/  160]\n",
      "loss: 0.769663  [  156/  160]\n",
      "loss: 0.762838  [  157/  160]\n",
      "loss: 0.770043  [  158/  160]\n",
      "loss: 0.792436  [  159/  160]\n"
     ]
    }
   ],
   "source": [
    "imgs = glob('D:/pytorch/data/2D_Zebrafish/images/*.tif')\n",
    "masks = glob('D:/pytorch/data/2D_Zebrafish/labels/*.tif')\n",
    "for i, (img, mask) in enumerate(zip(imgs, masks)):\n",
    "    img = img_as_float(io.imread(img))\n",
    "    mask = img_as_float(io.imread(mask))\n",
    "    mask[mask>0] = 1\n",
    "    input = torch.from_numpy( img )[None, None, :].float().cuda()\n",
    "    target = torch.from_numpy( mask )[None, None, :].float().cuda()\n",
    "    output = model(input)\n",
    "    loss = loss_fn(output, target)\n",
    "    optimizer.zero_grad()\n",
    "    loss.backward()\n",
    "    optimizer.step()\n",
    "    loss, current = loss.item(), i\n",
    "    print(f\"loss: {loss:>7f}  [{current:>5d}/{len(imgs):>5d}]\")"
   ]
  },
  {
   "cell_type": "markdown",
   "metadata": {},
   "source": [
    "### use dataloader"
   ]
  },
  {
   "cell_type": "code",
   "execution_count": 42,
   "metadata": {},
   "outputs": [],
   "source": [
    "device = 'cuda'\n",
    "def train(dataloader, model, loss_fn, optimizer):\n",
    "    size = len(dataloader.dataset)\n",
    "    model.train()\n",
    "    for batch, (X, y) in enumerate(dataloader):\n",
    "        X, y = X.to(device), y.to(device)\n",
    "\n",
    "        # Compute prediction error\n",
    "        pred = model(X)\n",
    "        loss = loss_fn(pred, y)\n",
    "\n",
    "        # Backpropagation\n",
    "        optimizer.zero_grad()\n",
    "        loss.backward()\n",
    "        optimizer.step()\n",
    "\n",
    "        if batch % 10 == 0:\n",
    "            loss, current = loss.item(), batch * len(X)\n",
    "            print(f\"loss: {loss:>7f}  [{current:>5d}/{size:>5d}]\")\n",
    "\n",
    "def test(dataloader, model, loss_fn):\n",
    "    size = len(dataloader.dataset)\n",
    "    num_batches = len(dataloader)\n",
    "    model.eval()\n",
    "    test_loss, correct = 0, 0\n",
    "    with torch.no_grad():\n",
    "        for X, y in dataloader:\n",
    "            X, y = X.to(device), y.to(device)\n",
    "            pred = model(X) # N x 1 x H x W\n",
    "            test_loss += loss_fn(pred, y).item()\n",
    "            pred[pred>0.5] = 1\n",
    "            pred[pred<=0.5] = 0\n",
    "            correct += (pred == y).type(torch.float).sum().item()\n",
    "    test_loss /= num_batches\n",
    "    correct /= size*(512**2)\n",
    "    print(f\"Test Error: \\n Accuracy: {(100*correct):>0.1f}%, Avg loss: {test_loss:>8f} \\n\")"
   ]
  },
  {
   "cell_type": "code",
   "execution_count": 43,
   "metadata": {},
   "outputs": [],
   "source": [
    "from torch.utils.data import Dataset\n",
    "from torch.utils.data import DataLoader\n",
    "from torchvision import transforms\n",
    "from PIL import Image"
   ]
  },
  {
   "cell_type": "code",
   "execution_count": 44,
   "metadata": {},
   "outputs": [],
   "source": [
    "class ImageMaskPair(Dataset):\n",
    "    def __init__(self, img_paths, mask_paths, transforms=None):\n",
    "        self.img_paths = img_paths\n",
    "        self.mask_paths = mask_paths\n",
    "        if transforms is not None:\n",
    "            self.transforms = transforms\n",
    "\n",
    "    def __len__(self):\n",
    "        return len(self.img_paths)\n",
    "\n",
    "    def __getitem__(self, idx):\n",
    "        img = img_as_float(io.imread(self.img_paths[idx]))\n",
    "        mask = img_as_float(io.imread(self.mask_paths[idx]))\n",
    "        mask[mask>0] = 1\n",
    "        # img = torch.from_numpy( img )[None, :].float() # C x H x W\n",
    "        # mask = torch.from_numpy( mask )[None, :].float() # C x H x W\n",
    "        img = self.transforms(img)\n",
    "        mask = self.transforms(mask)\n",
    "        return img, mask"
   ]
  },
  {
   "cell_type": "code",
   "execution_count": 45,
   "metadata": {},
   "outputs": [],
   "source": [
    "pair_transforms = transforms.Compose([\n",
    "    transforms.ToTensor(),\n",
    "    transforms.ConvertImageDtype(torch.float),\n",
    "])"
   ]
  },
  {
   "cell_type": "code",
   "execution_count": 49,
   "metadata": {},
   "outputs": [],
   "source": [
    "img_train_paths = glob('D:/pytorch/data/2D_Zebrafish/images/*.tif')\n",
    "mask_train_paths = glob('D:/pytorch/data/2D_Zebrafish/labels/*.tif')\n",
    "img_test_paths = glob('D:/pytorch/data/2D_Zebrafish/testimages/*.tif')\n",
    "mask_test_paths = glob('D:/pytorch/data/2D_Zebrafish/testlabels/*.tif')"
   ]
  },
  {
   "cell_type": "code",
   "execution_count": 50,
   "metadata": {},
   "outputs": [],
   "source": [
    "image_mask_train_pair = ImageMaskPair(img_train_paths, mask_train_paths, transforms=pair_transforms)\n",
    "train_dataloader = DataLoader(image_mask_train_pair, batch_size=4, shuffle=True)\n",
    "image_mask_test_pair = ImageMaskPair(img_test_paths, mask_test_paths, transforms=pair_transforms)\n",
    "test_dataloader = DataLoader(image_mask_test_pair, batch_size=4, shuffle=True)"
   ]
  },
  {
   "cell_type": "code",
   "execution_count": 51,
   "metadata": {},
   "outputs": [
    {
     "data": {
      "text/plain": [
       "['D:/pytorch/data/2D_Zebrafish/labels\\\\embryo10_001_annotationLabels.tif',\n",
       " 'D:/pytorch/data/2D_Zebrafish/labels\\\\embryo10_002_annotationLabels.tif',\n",
       " 'D:/pytorch/data/2D_Zebrafish/labels\\\\embryo10_003_annotationLabels.tif',\n",
       " 'D:/pytorch/data/2D_Zebrafish/labels\\\\embryo10_004_annotationLabels.tif',\n",
       " 'D:/pytorch/data/2D_Zebrafish/labels\\\\embryo10_005_annotationLabels.tif',\n",
       " 'D:/pytorch/data/2D_Zebrafish/labels\\\\embryo10_006_annotationLabels.tif',\n",
       " 'D:/pytorch/data/2D_Zebrafish/labels\\\\embryo10_007_annotationLabels.tif',\n",
       " 'D:/pytorch/data/2D_Zebrafish/labels\\\\embryo10_008_annotationLabels.tif',\n",
       " 'D:/pytorch/data/2D_Zebrafish/labels\\\\embryo10_009_annotationLabels.tif',\n",
       " 'D:/pytorch/data/2D_Zebrafish/labels\\\\embryo10_010_annotationLabels.tif',\n",
       " 'D:/pytorch/data/2D_Zebrafish/labels\\\\embryo10_011_annotationLabels.tif',\n",
       " 'D:/pytorch/data/2D_Zebrafish/labels\\\\embryo10_012_annotationLabels.tif',\n",
       " 'D:/pytorch/data/2D_Zebrafish/labels\\\\embryo10_013_annotationLabels.tif',\n",
       " 'D:/pytorch/data/2D_Zebrafish/labels\\\\embryo10_014_annotationLabels.tif',\n",
       " 'D:/pytorch/data/2D_Zebrafish/labels\\\\embryo10_015_annotationLabels.tif',\n",
       " 'D:/pytorch/data/2D_Zebrafish/labels\\\\embryo10_016_annotationLabels.tif',\n",
       " 'D:/pytorch/data/2D_Zebrafish/labels\\\\embryo1_001_annotationLabels.tif',\n",
       " 'D:/pytorch/data/2D_Zebrafish/labels\\\\embryo1_002_annotationLabels.tif',\n",
       " 'D:/pytorch/data/2D_Zebrafish/labels\\\\embryo1_003_annotationLabels.tif',\n",
       " 'D:/pytorch/data/2D_Zebrafish/labels\\\\embryo1_004_annotationLabels.tif',\n",
       " 'D:/pytorch/data/2D_Zebrafish/labels\\\\embryo1_005_annotationLabels.tif',\n",
       " 'D:/pytorch/data/2D_Zebrafish/labels\\\\embryo1_006_annotationLabels.tif',\n",
       " 'D:/pytorch/data/2D_Zebrafish/labels\\\\embryo1_007_annotationLabels.tif',\n",
       " 'D:/pytorch/data/2D_Zebrafish/labels\\\\embryo1_008_annotationLabels.tif',\n",
       " 'D:/pytorch/data/2D_Zebrafish/labels\\\\embryo1_009_annotationLabels.tif',\n",
       " 'D:/pytorch/data/2D_Zebrafish/labels\\\\embryo1_010_annotationLabels.tif',\n",
       " 'D:/pytorch/data/2D_Zebrafish/labels\\\\embryo1_011_annotationLabels.tif',\n",
       " 'D:/pytorch/data/2D_Zebrafish/labels\\\\embryo1_012_annotationLabels.tif',\n",
       " 'D:/pytorch/data/2D_Zebrafish/labels\\\\embryo1_013_annotationLabels.tif',\n",
       " 'D:/pytorch/data/2D_Zebrafish/labels\\\\embryo1_014_annotationLabels.tif',\n",
       " 'D:/pytorch/data/2D_Zebrafish/labels\\\\embryo1_015_annotationLabels.tif',\n",
       " 'D:/pytorch/data/2D_Zebrafish/labels\\\\embryo1_016_annotationLabels.tif',\n",
       " 'D:/pytorch/data/2D_Zebrafish/labels\\\\embryo2_001_annotationLabels.tif',\n",
       " 'D:/pytorch/data/2D_Zebrafish/labels\\\\embryo2_002_annotationLabels.tif',\n",
       " 'D:/pytorch/data/2D_Zebrafish/labels\\\\embryo2_003_annotationLabels.tif',\n",
       " 'D:/pytorch/data/2D_Zebrafish/labels\\\\embryo2_004_annotationLabels.tif',\n",
       " 'D:/pytorch/data/2D_Zebrafish/labels\\\\embryo2_005_annotationLabels.tif',\n",
       " 'D:/pytorch/data/2D_Zebrafish/labels\\\\embryo2_006_annotationLabels.tif',\n",
       " 'D:/pytorch/data/2D_Zebrafish/labels\\\\embryo2_007_annotationLabels.tif',\n",
       " 'D:/pytorch/data/2D_Zebrafish/labels\\\\embryo2_008_annotationLabels.tif',\n",
       " 'D:/pytorch/data/2D_Zebrafish/labels\\\\embryo2_009_annotationLabels.tif',\n",
       " 'D:/pytorch/data/2D_Zebrafish/labels\\\\embryo2_010_annotationLabels.tif',\n",
       " 'D:/pytorch/data/2D_Zebrafish/labels\\\\embryo2_011_annotationLabels.tif',\n",
       " 'D:/pytorch/data/2D_Zebrafish/labels\\\\embryo2_012_annotationLabels.tif',\n",
       " 'D:/pytorch/data/2D_Zebrafish/labels\\\\embryo2_013_annotationLabels.tif',\n",
       " 'D:/pytorch/data/2D_Zebrafish/labels\\\\embryo2_014_annotationLabels.tif',\n",
       " 'D:/pytorch/data/2D_Zebrafish/labels\\\\embryo2_015_annotationLabels.tif',\n",
       " 'D:/pytorch/data/2D_Zebrafish/labels\\\\embryo2_016_annotationLabels.tif',\n",
       " 'D:/pytorch/data/2D_Zebrafish/labels\\\\embryo3_001_annotationLabels.tif',\n",
       " 'D:/pytorch/data/2D_Zebrafish/labels\\\\embryo3_002_annotationLabels.tif',\n",
       " 'D:/pytorch/data/2D_Zebrafish/labels\\\\embryo3_003_annotationLabels.tif',\n",
       " 'D:/pytorch/data/2D_Zebrafish/labels\\\\embryo3_004_annotationLabels.tif',\n",
       " 'D:/pytorch/data/2D_Zebrafish/labels\\\\embryo3_005_annotationLabels.tif',\n",
       " 'D:/pytorch/data/2D_Zebrafish/labels\\\\embryo3_006_annotationLabels.tif',\n",
       " 'D:/pytorch/data/2D_Zebrafish/labels\\\\embryo3_007_annotationLabels.tif',\n",
       " 'D:/pytorch/data/2D_Zebrafish/labels\\\\embryo3_008_annotationLabels.tif',\n",
       " 'D:/pytorch/data/2D_Zebrafish/labels\\\\embryo3_009_annotationLabels.tif',\n",
       " 'D:/pytorch/data/2D_Zebrafish/labels\\\\embryo3_010_annotationLabels.tif',\n",
       " 'D:/pytorch/data/2D_Zebrafish/labels\\\\embryo3_011_annotationLabels.tif',\n",
       " 'D:/pytorch/data/2D_Zebrafish/labels\\\\embryo3_012_annotationLabels.tif',\n",
       " 'D:/pytorch/data/2D_Zebrafish/labels\\\\embryo3_013_annotationLabels.tif',\n",
       " 'D:/pytorch/data/2D_Zebrafish/labels\\\\embryo3_014_annotationLabels.tif',\n",
       " 'D:/pytorch/data/2D_Zebrafish/labels\\\\embryo3_015_annotationLabels.tif',\n",
       " 'D:/pytorch/data/2D_Zebrafish/labels\\\\embryo3_016_annotationLabels.tif',\n",
       " 'D:/pytorch/data/2D_Zebrafish/labels\\\\embryo4_001_annotationLabels.tif',\n",
       " 'D:/pytorch/data/2D_Zebrafish/labels\\\\embryo4_002_annotationLabels.tif',\n",
       " 'D:/pytorch/data/2D_Zebrafish/labels\\\\embryo4_003_annotationLabels.tif',\n",
       " 'D:/pytorch/data/2D_Zebrafish/labels\\\\embryo4_004_annotationLabels.tif',\n",
       " 'D:/pytorch/data/2D_Zebrafish/labels\\\\embryo4_005_annotationLabels.tif',\n",
       " 'D:/pytorch/data/2D_Zebrafish/labels\\\\embryo4_006_annotationLabels.tif',\n",
       " 'D:/pytorch/data/2D_Zebrafish/labels\\\\embryo4_007_annotationLabels.tif',\n",
       " 'D:/pytorch/data/2D_Zebrafish/labels\\\\embryo4_008_annotationLabels.tif',\n",
       " 'D:/pytorch/data/2D_Zebrafish/labels\\\\embryo4_009_annotationLabels.tif',\n",
       " 'D:/pytorch/data/2D_Zebrafish/labels\\\\embryo4_010_annotationLabels.tif',\n",
       " 'D:/pytorch/data/2D_Zebrafish/labels\\\\embryo4_011_annotationLabels.tif',\n",
       " 'D:/pytorch/data/2D_Zebrafish/labels\\\\embryo4_012_annotationLabels.tif',\n",
       " 'D:/pytorch/data/2D_Zebrafish/labels\\\\embryo4_013_annotationLabels.tif',\n",
       " 'D:/pytorch/data/2D_Zebrafish/labels\\\\embryo4_014_annotationLabels.tif',\n",
       " 'D:/pytorch/data/2D_Zebrafish/labels\\\\embryo4_015_annotationLabels.tif',\n",
       " 'D:/pytorch/data/2D_Zebrafish/labels\\\\embryo4_016_annotationLabels.tif',\n",
       " 'D:/pytorch/data/2D_Zebrafish/labels\\\\embryo5_001_annotationLabels.tif',\n",
       " 'D:/pytorch/data/2D_Zebrafish/labels\\\\embryo5_002_annotationLabels.tif',\n",
       " 'D:/pytorch/data/2D_Zebrafish/labels\\\\embryo5_003_annotationLabels.tif',\n",
       " 'D:/pytorch/data/2D_Zebrafish/labels\\\\embryo5_004_annotationLabels.tif',\n",
       " 'D:/pytorch/data/2D_Zebrafish/labels\\\\embryo5_005_annotationLabels.tif',\n",
       " 'D:/pytorch/data/2D_Zebrafish/labels\\\\embryo5_006_annotationLabels.tif',\n",
       " 'D:/pytorch/data/2D_Zebrafish/labels\\\\embryo5_007_annotationLabels.tif',\n",
       " 'D:/pytorch/data/2D_Zebrafish/labels\\\\embryo5_008_annotationLabels.tif',\n",
       " 'D:/pytorch/data/2D_Zebrafish/labels\\\\embryo5_009_annotationLabels.tif',\n",
       " 'D:/pytorch/data/2D_Zebrafish/labels\\\\embryo5_010_annotationLabels.tif',\n",
       " 'D:/pytorch/data/2D_Zebrafish/labels\\\\embryo5_011_annotationLabels.tif',\n",
       " 'D:/pytorch/data/2D_Zebrafish/labels\\\\embryo5_012_annotationLabels.tif',\n",
       " 'D:/pytorch/data/2D_Zebrafish/labels\\\\embryo5_013_annotationLabels.tif',\n",
       " 'D:/pytorch/data/2D_Zebrafish/labels\\\\embryo5_014_annotationLabels.tif',\n",
       " 'D:/pytorch/data/2D_Zebrafish/labels\\\\embryo5_015_annotationLabels.tif',\n",
       " 'D:/pytorch/data/2D_Zebrafish/labels\\\\embryo5_016_annotationLabels.tif',\n",
       " 'D:/pytorch/data/2D_Zebrafish/labels\\\\embryo6_001_annotationLabels.tif',\n",
       " 'D:/pytorch/data/2D_Zebrafish/labels\\\\embryo6_002_annotationLabels.tif',\n",
       " 'D:/pytorch/data/2D_Zebrafish/labels\\\\embryo6_003_annotationLabels.tif',\n",
       " 'D:/pytorch/data/2D_Zebrafish/labels\\\\embryo6_004_annotationLabels.tif',\n",
       " 'D:/pytorch/data/2D_Zebrafish/labels\\\\embryo6_005_annotationLabels.tif',\n",
       " 'D:/pytorch/data/2D_Zebrafish/labels\\\\embryo6_006_annotationLabels.tif',\n",
       " 'D:/pytorch/data/2D_Zebrafish/labels\\\\embryo6_007_annotationLabels.tif',\n",
       " 'D:/pytorch/data/2D_Zebrafish/labels\\\\embryo6_008_annotationLabels.tif',\n",
       " 'D:/pytorch/data/2D_Zebrafish/labels\\\\embryo6_009_annotationLabels.tif',\n",
       " 'D:/pytorch/data/2D_Zebrafish/labels\\\\embryo6_010_annotationLabels.tif',\n",
       " 'D:/pytorch/data/2D_Zebrafish/labels\\\\embryo6_011_annotationLabels.tif',\n",
       " 'D:/pytorch/data/2D_Zebrafish/labels\\\\embryo6_012_annotationLabels.tif',\n",
       " 'D:/pytorch/data/2D_Zebrafish/labels\\\\embryo6_013_annotationLabels.tif',\n",
       " 'D:/pytorch/data/2D_Zebrafish/labels\\\\embryo6_014_annotationLabels.tif',\n",
       " 'D:/pytorch/data/2D_Zebrafish/labels\\\\embryo6_015_annotationLabels.tif',\n",
       " 'D:/pytorch/data/2D_Zebrafish/labels\\\\embryo6_016_annotationLabels.tif',\n",
       " 'D:/pytorch/data/2D_Zebrafish/labels\\\\embryo7_001_annotationLabels.tif',\n",
       " 'D:/pytorch/data/2D_Zebrafish/labels\\\\embryo7_002_annotationLabels.tif',\n",
       " 'D:/pytorch/data/2D_Zebrafish/labels\\\\embryo7_003_annotationLabels.tif',\n",
       " 'D:/pytorch/data/2D_Zebrafish/labels\\\\embryo7_004_annotationLabels.tif',\n",
       " 'D:/pytorch/data/2D_Zebrafish/labels\\\\embryo7_005_annotationLabels.tif',\n",
       " 'D:/pytorch/data/2D_Zebrafish/labels\\\\embryo7_006_annotationLabels.tif',\n",
       " 'D:/pytorch/data/2D_Zebrafish/labels\\\\embryo7_007_annotationLabels.tif',\n",
       " 'D:/pytorch/data/2D_Zebrafish/labels\\\\embryo7_008_annotationLabels.tif',\n",
       " 'D:/pytorch/data/2D_Zebrafish/labels\\\\embryo7_009_annotationLabels.tif',\n",
       " 'D:/pytorch/data/2D_Zebrafish/labels\\\\embryo7_010_annotationLabels.tif',\n",
       " 'D:/pytorch/data/2D_Zebrafish/labels\\\\embryo7_011_annotationLabels.tif',\n",
       " 'D:/pytorch/data/2D_Zebrafish/labels\\\\embryo7_012_annotationLabels.tif',\n",
       " 'D:/pytorch/data/2D_Zebrafish/labels\\\\embryo7_013_annotationLabels.tif',\n",
       " 'D:/pytorch/data/2D_Zebrafish/labels\\\\embryo7_014_annotationLabels.tif',\n",
       " 'D:/pytorch/data/2D_Zebrafish/labels\\\\embryo7_015_annotationLabels.tif',\n",
       " 'D:/pytorch/data/2D_Zebrafish/labels\\\\embryo7_016_annotationLabels.tif',\n",
       " 'D:/pytorch/data/2D_Zebrafish/labels\\\\embryo8_001_annotationLabels.tif',\n",
       " 'D:/pytorch/data/2D_Zebrafish/labels\\\\embryo8_002_annotationLabels.tif',\n",
       " 'D:/pytorch/data/2D_Zebrafish/labels\\\\embryo8_003_annotationLabels.tif',\n",
       " 'D:/pytorch/data/2D_Zebrafish/labels\\\\embryo8_004_annotationLabels.tif',\n",
       " 'D:/pytorch/data/2D_Zebrafish/labels\\\\embryo8_005_annotationLabels.tif',\n",
       " 'D:/pytorch/data/2D_Zebrafish/labels\\\\embryo8_006_annotationLabels.tif',\n",
       " 'D:/pytorch/data/2D_Zebrafish/labels\\\\embryo8_007_annotationLabels.tif',\n",
       " 'D:/pytorch/data/2D_Zebrafish/labels\\\\embryo8_008_annotationLabels.tif',\n",
       " 'D:/pytorch/data/2D_Zebrafish/labels\\\\embryo8_009_annotationLabels.tif',\n",
       " 'D:/pytorch/data/2D_Zebrafish/labels\\\\embryo8_010_annotationLabels.tif',\n",
       " 'D:/pytorch/data/2D_Zebrafish/labels\\\\embryo8_011_annotationLabels.tif',\n",
       " 'D:/pytorch/data/2D_Zebrafish/labels\\\\embryo8_012_annotationLabels.tif',\n",
       " 'D:/pytorch/data/2D_Zebrafish/labels\\\\embryo8_013_annotationLabels.tif',\n",
       " 'D:/pytorch/data/2D_Zebrafish/labels\\\\embryo8_014_annotationLabels.tif',\n",
       " 'D:/pytorch/data/2D_Zebrafish/labels\\\\embryo8_015_annotationLabels.tif',\n",
       " 'D:/pytorch/data/2D_Zebrafish/labels\\\\embryo8_016_annotationLabels.tif',\n",
       " 'D:/pytorch/data/2D_Zebrafish/labels\\\\embryo9_001_annotationLabels.tif',\n",
       " 'D:/pytorch/data/2D_Zebrafish/labels\\\\embryo9_002_annotationLabels.tif',\n",
       " 'D:/pytorch/data/2D_Zebrafish/labels\\\\embryo9_003_annotationLabels.tif',\n",
       " 'D:/pytorch/data/2D_Zebrafish/labels\\\\embryo9_004_annotationLabels.tif',\n",
       " 'D:/pytorch/data/2D_Zebrafish/labels\\\\embryo9_005_annotationLabels.tif',\n",
       " 'D:/pytorch/data/2D_Zebrafish/labels\\\\embryo9_006_annotationLabels.tif',\n",
       " 'D:/pytorch/data/2D_Zebrafish/labels\\\\embryo9_007_annotationLabels.tif',\n",
       " 'D:/pytorch/data/2D_Zebrafish/labels\\\\embryo9_008_annotationLabels.tif',\n",
       " 'D:/pytorch/data/2D_Zebrafish/labels\\\\embryo9_009_annotationLabels.tif',\n",
       " 'D:/pytorch/data/2D_Zebrafish/labels\\\\embryo9_010_annotationLabels.tif',\n",
       " 'D:/pytorch/data/2D_Zebrafish/labels\\\\embryo9_011_annotationLabels.tif',\n",
       " 'D:/pytorch/data/2D_Zebrafish/labels\\\\embryo9_012_annotationLabels.tif',\n",
       " 'D:/pytorch/data/2D_Zebrafish/labels\\\\embryo9_013_annotationLabels.tif',\n",
       " 'D:/pytorch/data/2D_Zebrafish/labels\\\\embryo9_014_annotationLabels.tif',\n",
       " 'D:/pytorch/data/2D_Zebrafish/labels\\\\embryo9_015_annotationLabels.tif',\n",
       " 'D:/pytorch/data/2D_Zebrafish/labels\\\\embryo9_016_annotationLabels.tif']"
      ]
     },
     "execution_count": 51,
     "metadata": {},
     "output_type": "execute_result"
    }
   ],
   "source": [
    "mask_train_paths"
   ]
  },
  {
   "cell_type": "code",
   "execution_count": 52,
   "metadata": {},
   "outputs": [],
   "source": [
    "train_images, train_masks = next(iter(test_dataloader))"
   ]
  },
  {
   "cell_type": "code",
   "execution_count": 59,
   "metadata": {},
   "outputs": [
    {
     "name": "stdout",
     "output_type": "stream",
     "text": [
      "Feature batch shape: torch.Size([4, 1, 512, 512])\n",
      "Labels batch shape: torch.Size([4, 1, 512, 512])\n"
     ]
    },
    {
     "data": {
      "image/png": "[encoded data removed]",
      "text/plain": [
       "<Figure size 432x288 with 1 Axes>"
      ]
     },
     "metadata": {
      "needs_background": "light"
     },
     "output_type": "display_data"
    },
    {
     "data": {
      "image/png": "[encoded data removed]",
      "text/plain": [
       "<Figure size 432x288 with 1 Axes>"
      ]
     },
     "metadata": {
      "needs_background": "light"
     },
     "output_type": "display_data"
    },
    {
     "data": {
      "image/png": "[encoded data removed]",
      "text/plain": [
       "<Figure size 432x288 with 1 Axes>"
      ]
     },
     "metadata": {
      "needs_background": "light"
     },
     "output_type": "display_data"
    }
   ],
   "source": [
    "train_images, train_masks = next(iter(test_dataloader))\n",
    "out_masks = model(train_images.cuda())\n",
    "print(f\"Feature batch shape: {train_images.size()}\")\n",
    "print(f\"Labels batch shape: {train_masks.size()}\")\n",
    "img = train_images[0].squeeze()\n",
    "label = train_masks[0].squeeze()\n",
    "out_masks[out_masks>0.5] = 1\n",
    "out_masks[out_masks<=0.5] = 0\n",
    "out = out_masks[0].detach().cpu().squeeze()\n",
    "plt.imshow(img, cmap=\"gray\")\n",
    "plt.show()\n",
    "plt.imshow(label, cmap=\"gray\")\n",
    "plt.show()\n",
    "plt.imshow(out, cmap=\"gray\")\n",
    "plt.show()"
   ]
  },
  {
   "cell_type": "code",
   "execution_count": 58,
   "metadata": {
    "scrolled": true
   },
   "outputs": [
    {
     "name": "stdout",
     "output_type": "stream",
     "text": [
      "Epoch 1\n",
      "-------------------------------\n",
      "loss: 0.614544  [    0/  160]\n",
      "loss: 0.581195  [   40/  160]\n",
      "loss: 0.585850  [   80/  160]\n",
      "loss: 0.595710  [  120/  160]\n",
      "Test Error: \n",
      " Accuracy: 99.2%, Avg loss: 0.601114 \n",
      "\n",
      "Epoch 2\n",
      "-------------------------------\n",
      "loss: 0.588135  [    0/  160]\n",
      "loss: 0.600000  [   40/  160]\n",
      "loss: 0.588254  [   80/  160]\n",
      "loss: 0.593363  [  120/  160]\n",
      "Test Error: \n",
      " Accuracy: 99.2%, Avg loss: 0.601111 \n",
      "\n",
      "Epoch 3\n",
      "-------------------------------\n",
      "loss: 0.627296  [    0/  160]\n",
      "loss: 0.620932  [   40/  160]\n",
      "loss: 0.594143  [   80/  160]\n",
      "loss: 0.597096  [  120/  160]\n"
     ]
    },
    {
     "ename": "KeyboardInterrupt",
     "evalue": "",
     "output_type": "error",
     "traceback": [
      "\u001b[1;31m---------------------------------------------------------------------------\u001b[0m",
      "\u001b[1;31mKeyboardInterrupt\u001b[0m                         Traceback (most recent call last)",
      "Input \u001b[1;32mIn [58]\u001b[0m, in \u001b[0;36m<cell line: 4>\u001b[1;34m()\u001b[0m\n\u001b[0;32m      5\u001b[0m     \u001b[38;5;28mprint\u001b[39m(\u001b[38;5;124mf\u001b[39m\u001b[38;5;124m\"\u001b[39m\u001b[38;5;124mEpoch \u001b[39m\u001b[38;5;132;01m{\u001b[39;00mt\u001b[38;5;241m+\u001b[39m\u001b[38;5;241m1\u001b[39m\u001b[38;5;132;01m}\u001b[39;00m\u001b[38;5;130;01m\\n\u001b[39;00m\u001b[38;5;124m-------------------------------\u001b[39m\u001b[38;5;124m\"\u001b[39m)\n\u001b[0;32m      6\u001b[0m     train(train_dataloader, model, loss_fn, optimizer)\n\u001b[1;32m----> 7\u001b[0m     \u001b[43mtest\u001b[49m\u001b[43m(\u001b[49m\u001b[43mtest_dataloader\u001b[49m\u001b[43m,\u001b[49m\u001b[43m \u001b[49m\u001b[43mmodel\u001b[49m\u001b[43m,\u001b[49m\u001b[43m \u001b[49m\u001b[43mloss_fn\u001b[49m\u001b[43m)\u001b[49m\n\u001b[0;32m      8\u001b[0m \u001b[38;5;28mprint\u001b[39m(\u001b[38;5;124m\"\u001b[39m\u001b[38;5;124mDone!\u001b[39m\u001b[38;5;124m\"\u001b[39m)\n",
      "Input \u001b[1;32mIn [42]\u001b[0m, in \u001b[0;36mtest\u001b[1;34m(dataloader, model, loss_fn)\u001b[0m\n\u001b[0;32m     25\u001b[0m test_loss, correct \u001b[38;5;241m=\u001b[39m \u001b[38;5;241m0\u001b[39m, \u001b[38;5;241m0\u001b[39m\n\u001b[0;32m     26\u001b[0m \u001b[38;5;28;01mwith\u001b[39;00m torch\u001b[38;5;241m.\u001b[39mno_grad():\n\u001b[1;32m---> 27\u001b[0m     \u001b[38;5;28;01mfor\u001b[39;00m X, y \u001b[38;5;129;01min\u001b[39;00m dataloader:\n\u001b[0;32m     28\u001b[0m         X, y \u001b[38;5;241m=\u001b[39m X\u001b[38;5;241m.\u001b[39mto(device), y\u001b[38;5;241m.\u001b[39mto(device)\n\u001b[0;32m     29\u001b[0m         pred \u001b[38;5;241m=\u001b[39m model(X) \u001b[38;5;66;03m# N x 1 x H x W\u001b[39;00m\n",
      "File \u001b[1;32mD:\\Anaconda\\envs\\fastai2\\lib\\site-packages\\torch\\utils\\data\\dataloader.py:530\u001b[0m, in \u001b[0;36m_BaseDataLoaderIter.__next__\u001b[1;34m(self)\u001b[0m\n\u001b[0;32m    528\u001b[0m \u001b[38;5;28;01mif\u001b[39;00m \u001b[38;5;28mself\u001b[39m\u001b[38;5;241m.\u001b[39m_sampler_iter \u001b[38;5;129;01mis\u001b[39;00m \u001b[38;5;28;01mNone\u001b[39;00m:\n\u001b[0;32m    529\u001b[0m     \u001b[38;5;28mself\u001b[39m\u001b[38;5;241m.\u001b[39m_reset()\n\u001b[1;32m--> 530\u001b[0m data \u001b[38;5;241m=\u001b[39m \u001b[38;5;28;43mself\u001b[39;49m\u001b[38;5;241;43m.\u001b[39;49m\u001b[43m_next_data\u001b[49m\u001b[43m(\u001b[49m\u001b[43m)\u001b[49m\n\u001b[0;32m    531\u001b[0m \u001b[38;5;28mself\u001b[39m\u001b[38;5;241m.\u001b[39m_num_yielded \u001b[38;5;241m+\u001b[39m\u001b[38;5;241m=\u001b[39m \u001b[38;5;241m1\u001b[39m\n\u001b[0;32m    532\u001b[0m \u001b[38;5;28;01mif\u001b[39;00m \u001b[38;5;28mself\u001b[39m\u001b[38;5;241m.\u001b[39m_dataset_kind \u001b[38;5;241m==\u001b[39m _DatasetKind\u001b[38;5;241m.\u001b[39mIterable \u001b[38;5;129;01mand\u001b[39;00m \\\n\u001b[0;32m    533\u001b[0m         \u001b[38;5;28mself\u001b[39m\u001b[38;5;241m.\u001b[39m_IterableDataset_len_called \u001b[38;5;129;01mis\u001b[39;00m \u001b[38;5;129;01mnot\u001b[39;00m \u001b[38;5;28;01mNone\u001b[39;00m \u001b[38;5;129;01mand\u001b[39;00m \\\n\u001b[0;32m    534\u001b[0m         \u001b[38;5;28mself\u001b[39m\u001b[38;5;241m.\u001b[39m_num_yielded \u001b[38;5;241m>\u001b[39m \u001b[38;5;28mself\u001b[39m\u001b[38;5;241m.\u001b[39m_IterableDataset_len_called:\n",
      "File \u001b[1;32mD:\\Anaconda\\envs\\fastai2\\lib\\site-packages\\torch\\utils\\data\\dataloader.py:570\u001b[0m, in \u001b[0;36m_SingleProcessDataLoaderIter._next_data\u001b[1;34m(self)\u001b[0m\n\u001b[0;32m    568\u001b[0m \u001b[38;5;28;01mdef\u001b[39;00m \u001b[38;5;21m_next_data\u001b[39m(\u001b[38;5;28mself\u001b[39m):\n\u001b[0;32m    569\u001b[0m     index \u001b[38;5;241m=\u001b[39m \u001b[38;5;28mself\u001b[39m\u001b[38;5;241m.\u001b[39m_next_index()  \u001b[38;5;66;03m# may raise StopIteration\u001b[39;00m\n\u001b[1;32m--> 570\u001b[0m     data \u001b[38;5;241m=\u001b[39m \u001b[38;5;28;43mself\u001b[39;49m\u001b[38;5;241;43m.\u001b[39;49m\u001b[43m_dataset_fetcher\u001b[49m\u001b[38;5;241;43m.\u001b[39;49m\u001b[43mfetch\u001b[49m\u001b[43m(\u001b[49m\u001b[43mindex\u001b[49m\u001b[43m)\u001b[49m  \u001b[38;5;66;03m# may raise StopIteration\u001b[39;00m\n\u001b[0;32m    571\u001b[0m     \u001b[38;5;28;01mif\u001b[39;00m \u001b[38;5;28mself\u001b[39m\u001b[38;5;241m.\u001b[39m_pin_memory:\n\u001b[0;32m    572\u001b[0m         data \u001b[38;5;241m=\u001b[39m _utils\u001b[38;5;241m.\u001b[39mpin_memory\u001b[38;5;241m.\u001b[39mpin_memory(data)\n",
      "File \u001b[1;32mD:\\Anaconda\\envs\\fastai2\\lib\\site-packages\\torch\\utils\\data\\_utils\\fetch.py:49\u001b[0m, in \u001b[0;36m_MapDatasetFetcher.fetch\u001b[1;34m(self, possibly_batched_index)\u001b[0m\n\u001b[0;32m     47\u001b[0m \u001b[38;5;28;01mdef\u001b[39;00m \u001b[38;5;21mfetch\u001b[39m(\u001b[38;5;28mself\u001b[39m, possibly_batched_index):\n\u001b[0;32m     48\u001b[0m     \u001b[38;5;28;01mif\u001b[39;00m \u001b[38;5;28mself\u001b[39m\u001b[38;5;241m.\u001b[39mauto_collation:\n\u001b[1;32m---> 49\u001b[0m         data \u001b[38;5;241m=\u001b[39m [\u001b[38;5;28mself\u001b[39m\u001b[38;5;241m.\u001b[39mdataset[idx] \u001b[38;5;28;01mfor\u001b[39;00m idx \u001b[38;5;129;01min\u001b[39;00m possibly_batched_index]\n\u001b[0;32m     50\u001b[0m     \u001b[38;5;28;01melse\u001b[39;00m:\n\u001b[0;32m     51\u001b[0m         data \u001b[38;5;241m=\u001b[39m \u001b[38;5;28mself\u001b[39m\u001b[38;5;241m.\u001b[39mdataset[possibly_batched_index]\n",
      "File \u001b[1;32mD:\\Anaconda\\envs\\fastai2\\lib\\site-packages\\torch\\utils\\data\\_utils\\fetch.py:49\u001b[0m, in \u001b[0;36m<listcomp>\u001b[1;34m(.0)\u001b[0m\n\u001b[0;32m     47\u001b[0m \u001b[38;5;28;01mdef\u001b[39;00m \u001b[38;5;21mfetch\u001b[39m(\u001b[38;5;28mself\u001b[39m, possibly_batched_index):\n\u001b[0;32m     48\u001b[0m     \u001b[38;5;28;01mif\u001b[39;00m \u001b[38;5;28mself\u001b[39m\u001b[38;5;241m.\u001b[39mauto_collation:\n\u001b[1;32m---> 49\u001b[0m         data \u001b[38;5;241m=\u001b[39m [\u001b[38;5;28;43mself\u001b[39;49m\u001b[38;5;241;43m.\u001b[39;49m\u001b[43mdataset\u001b[49m\u001b[43m[\u001b[49m\u001b[43midx\u001b[49m\u001b[43m]\u001b[49m \u001b[38;5;28;01mfor\u001b[39;00m idx \u001b[38;5;129;01min\u001b[39;00m possibly_batched_index]\n\u001b[0;32m     50\u001b[0m     \u001b[38;5;28;01melse\u001b[39;00m:\n\u001b[0;32m     51\u001b[0m         data \u001b[38;5;241m=\u001b[39m \u001b[38;5;28mself\u001b[39m\u001b[38;5;241m.\u001b[39mdataset[possibly_batched_index]\n",
      "Input \u001b[1;32mIn [44]\u001b[0m, in \u001b[0;36mImageMaskPair.__getitem__\u001b[1;34m(self, idx)\u001b[0m\n\u001b[0;32m     11\u001b[0m \u001b[38;5;28;01mdef\u001b[39;00m \u001b[38;5;21m__getitem__\u001b[39m(\u001b[38;5;28mself\u001b[39m, idx):\n\u001b[0;32m     12\u001b[0m     img \u001b[38;5;241m=\u001b[39m img_as_float(io\u001b[38;5;241m.\u001b[39mimread(\u001b[38;5;28mself\u001b[39m\u001b[38;5;241m.\u001b[39mimg_paths[idx]))\n\u001b[1;32m---> 13\u001b[0m     mask \u001b[38;5;241m=\u001b[39m img_as_float(\u001b[43mio\u001b[49m\u001b[38;5;241;43m.\u001b[39;49m\u001b[43mimread\u001b[49m\u001b[43m(\u001b[49m\u001b[38;5;28;43mself\u001b[39;49m\u001b[38;5;241;43m.\u001b[39;49m\u001b[43mmask_paths\u001b[49m\u001b[43m[\u001b[49m\u001b[43midx\u001b[49m\u001b[43m]\u001b[49m\u001b[43m)\u001b[49m)\n\u001b[0;32m     14\u001b[0m     mask[mask\u001b[38;5;241m>\u001b[39m\u001b[38;5;241m0\u001b[39m] \u001b[38;5;241m=\u001b[39m \u001b[38;5;241m1\u001b[39m\n\u001b[0;32m     15\u001b[0m     \u001b[38;5;66;03m# img = torch.from_numpy( img )[None, :].float() # C x H x W\u001b[39;00m\n\u001b[0;32m     16\u001b[0m     \u001b[38;5;66;03m# mask = torch.from_numpy( mask )[None, :].float() # C x H x W\u001b[39;00m\n",
      "File \u001b[1;32mD:\\Anaconda\\envs\\fastai2\\lib\\site-packages\\skimage\\io\\_io.py:53\u001b[0m, in \u001b[0;36mimread\u001b[1;34m(fname, as_gray, plugin, **plugin_args)\u001b[0m\n\u001b[0;32m     50\u001b[0m         plugin \u001b[38;5;241m=\u001b[39m \u001b[38;5;124m'\u001b[39m\u001b[38;5;124mtifffile\u001b[39m\u001b[38;5;124m'\u001b[39m\n\u001b[0;32m     52\u001b[0m \u001b[38;5;28;01mwith\u001b[39;00m file_or_url_context(fname) \u001b[38;5;28;01mas\u001b[39;00m fname:\n\u001b[1;32m---> 53\u001b[0m     img \u001b[38;5;241m=\u001b[39m call_plugin(\u001b[38;5;124m'\u001b[39m\u001b[38;5;124mimread\u001b[39m\u001b[38;5;124m'\u001b[39m, fname, plugin\u001b[38;5;241m=\u001b[39mplugin, \u001b[38;5;241m*\u001b[39m\u001b[38;5;241m*\u001b[39mplugin_args)\n\u001b[0;32m     55\u001b[0m \u001b[38;5;28;01mif\u001b[39;00m \u001b[38;5;129;01mnot\u001b[39;00m \u001b[38;5;28mhasattr\u001b[39m(img, \u001b[38;5;124m'\u001b[39m\u001b[38;5;124mndim\u001b[39m\u001b[38;5;124m'\u001b[39m):\n\u001b[0;32m     56\u001b[0m     \u001b[38;5;28;01mreturn\u001b[39;00m img\n",
      "File \u001b[1;32mD:\\Anaconda\\envs\\fastai2\\lib\\site-packages\\skimage\\io\\manage_plugins.py:207\u001b[0m, in \u001b[0;36mcall_plugin\u001b[1;34m(kind, *args, **kwargs)\u001b[0m\n\u001b[0;32m    203\u001b[0m     \u001b[38;5;28;01mexcept\u001b[39;00m \u001b[38;5;167;01mIndexError\u001b[39;00m:\n\u001b[0;32m    204\u001b[0m         \u001b[38;5;28;01mraise\u001b[39;00m \u001b[38;5;167;01mRuntimeError\u001b[39;00m(\u001b[38;5;124m'\u001b[39m\u001b[38;5;124mCould not find the plugin \u001b[39m\u001b[38;5;124m\"\u001b[39m\u001b[38;5;132;01m%s\u001b[39;00m\u001b[38;5;124m\"\u001b[39m\u001b[38;5;124m for \u001b[39m\u001b[38;5;132;01m%s\u001b[39;00m\u001b[38;5;124m.\u001b[39m\u001b[38;5;124m'\u001b[39m \u001b[38;5;241m%\u001b[39m\n\u001b[0;32m    205\u001b[0m                            (plugin, kind))\n\u001b[1;32m--> 207\u001b[0m \u001b[38;5;28;01mreturn\u001b[39;00m func(\u001b[38;5;241m*\u001b[39margs, \u001b[38;5;241m*\u001b[39m\u001b[38;5;241m*\u001b[39mkwargs)\n",
      "File \u001b[1;32mD:\\Anaconda\\envs\\fastai2\\lib\\site-packages\\skimage\\io\\_plugins\\tifffile_plugin.py:30\u001b[0m, in \u001b[0;36mimread\u001b[1;34m(fname, **kwargs)\u001b[0m\n\u001b[0;32m     27\u001b[0m \u001b[38;5;28;01mif\u001b[39;00m \u001b[38;5;124m'\u001b[39m\u001b[38;5;124mimg_num\u001b[39m\u001b[38;5;124m'\u001b[39m \u001b[38;5;129;01min\u001b[39;00m kwargs:\n\u001b[0;32m     28\u001b[0m     kwargs[\u001b[38;5;124m'\u001b[39m\u001b[38;5;124mkey\u001b[39m\u001b[38;5;124m'\u001b[39m] \u001b[38;5;241m=\u001b[39m kwargs\u001b[38;5;241m.\u001b[39mpop(\u001b[38;5;124m'\u001b[39m\u001b[38;5;124mimg_num\u001b[39m\u001b[38;5;124m'\u001b[39m)\n\u001b[1;32m---> 30\u001b[0m \u001b[38;5;28;01mreturn\u001b[39;00m tifffile_imread(fname, \u001b[38;5;241m*\u001b[39m\u001b[38;5;241m*\u001b[39mkwargs)\n",
      "File \u001b[1;32mD:\\Anaconda\\envs\\fastai2\\lib\\site-packages\\tifffile\\tifffile.py:816\u001b[0m, in \u001b[0;36mimread\u001b[1;34m(files, aszarr, **kwargs)\u001b[0m\n\u001b[0;32m    813\u001b[0m     files \u001b[38;5;241m=\u001b[39m files[\u001b[38;5;241m0\u001b[39m]\n\u001b[0;32m    815\u001b[0m \u001b[38;5;28;01mif\u001b[39;00m \u001b[38;5;28misinstance\u001b[39m(files, (\u001b[38;5;28mstr\u001b[39m, os\u001b[38;5;241m.\u001b[39mPathLike)) \u001b[38;5;129;01mor\u001b[39;00m \u001b[38;5;28mhasattr\u001b[39m(files, \u001b[38;5;124m'\u001b[39m\u001b[38;5;124mseek\u001b[39m\u001b[38;5;124m'\u001b[39m):\n\u001b[1;32m--> 816\u001b[0m     \u001b[38;5;28;01mwith\u001b[39;00m TiffFile(files, \u001b[38;5;241m*\u001b[39m\u001b[38;5;241m*\u001b[39mkwargs_file) \u001b[38;5;28;01mas\u001b[39;00m tif:\n\u001b[0;32m    817\u001b[0m         \u001b[38;5;28;01mif\u001b[39;00m aszarr:\n\u001b[0;32m    818\u001b[0m             \u001b[38;5;28;01mreturn\u001b[39;00m tif\u001b[38;5;241m.\u001b[39maszarr(\u001b[38;5;241m*\u001b[39m\u001b[38;5;241m*\u001b[39mkwargs)\n",
      "File \u001b[1;32mD:\\Anaconda\\envs\\fastai2\\lib\\site-packages\\tifffile\\tifffile.py:3000\u001b[0m, in \u001b[0;36mTiffFile.__init__\u001b[1;34m(self, arg, mode, name, offset, size, _multifile, _useframes, _master, **kwargs)\u001b[0m\n\u001b[0;32m   2997\u001b[0m \u001b[38;5;28;01mif\u001b[39;00m mode \u001b[38;5;129;01mnot\u001b[39;00m \u001b[38;5;129;01min\u001b[39;00m (\u001b[38;5;28;01mNone\u001b[39;00m, \u001b[38;5;124m'\u001b[39m\u001b[38;5;124mrb\u001b[39m\u001b[38;5;124m'\u001b[39m, \u001b[38;5;124m'\u001b[39m\u001b[38;5;124mr+b\u001b[39m\u001b[38;5;124m'\u001b[39m):\n\u001b[0;32m   2998\u001b[0m     \u001b[38;5;28;01mraise\u001b[39;00m \u001b[38;5;167;01mValueError\u001b[39;00m(\u001b[38;5;124mf\u001b[39m\u001b[38;5;124m'\u001b[39m\u001b[38;5;124minvalid mode \u001b[39m\u001b[38;5;132;01m{\u001b[39;00mmode\u001b[38;5;132;01m!r}\u001b[39;00m\u001b[38;5;124m'\u001b[39m)\n\u001b[1;32m-> 3000\u001b[0m fh \u001b[38;5;241m=\u001b[39m \u001b[43mFileHandle\u001b[49m\u001b[43m(\u001b[49m\u001b[43marg\u001b[49m\u001b[43m,\u001b[49m\u001b[43m \u001b[49m\u001b[43mmode\u001b[49m\u001b[38;5;241;43m=\u001b[39;49m\u001b[43mmode\u001b[49m\u001b[43m,\u001b[49m\u001b[43m \u001b[49m\u001b[43mname\u001b[49m\u001b[38;5;241;43m=\u001b[39;49m\u001b[43mname\u001b[49m\u001b[43m,\u001b[49m\u001b[43m \u001b[49m\u001b[43moffset\u001b[49m\u001b[38;5;241;43m=\u001b[39;49m\u001b[43moffset\u001b[49m\u001b[43m,\u001b[49m\u001b[43m \u001b[49m\u001b[43msize\u001b[49m\u001b[38;5;241;43m=\u001b[39;49m\u001b[43msize\u001b[49m\u001b[43m)\u001b[49m\n\u001b[0;32m   3001\u001b[0m \u001b[38;5;28mself\u001b[39m\u001b[38;5;241m.\u001b[39m_fh \u001b[38;5;241m=\u001b[39m fh\n\u001b[0;32m   3002\u001b[0m \u001b[38;5;28mself\u001b[39m\u001b[38;5;241m.\u001b[39m_multifile \u001b[38;5;241m=\u001b[39m \u001b[38;5;28mbool\u001b[39m(_multifile)\n",
      "File \u001b[1;32mD:\\Anaconda\\envs\\fastai2\\lib\\site-packages\\tifffile\\tifffile.py:9537\u001b[0m, in \u001b[0;36mFileHandle.__init__\u001b[1;34m(self, file, mode, name, offset, size)\u001b[0m\n\u001b[0;32m   9535\u001b[0m \u001b[38;5;28mself\u001b[39m\u001b[38;5;241m.\u001b[39mis_file \u001b[38;5;241m=\u001b[39m \u001b[38;5;28;01mNone\u001b[39;00m\n\u001b[0;32m   9536\u001b[0m \u001b[38;5;28mself\u001b[39m\u001b[38;5;241m.\u001b[39m_lock \u001b[38;5;241m=\u001b[39m NullContext()\n\u001b[1;32m-> 9537\u001b[0m \u001b[38;5;28;43mself\u001b[39;49m\u001b[38;5;241;43m.\u001b[39;49m\u001b[43mopen\u001b[49m\u001b[43m(\u001b[49m\u001b[43m)\u001b[49m\n",
      "File \u001b[1;32mD:\\Anaconda\\envs\\fastai2\\lib\\site-packages\\tifffile\\tifffile.py:9548\u001b[0m, in \u001b[0;36mFileHandle.open\u001b[1;34m(self)\u001b[0m\n\u001b[0;32m   9545\u001b[0m     \u001b[38;5;28mself\u001b[39m\u001b[38;5;241m.\u001b[39m_file \u001b[38;5;241m=\u001b[39m os\u001b[38;5;241m.\u001b[39mfspath(\u001b[38;5;28mself\u001b[39m\u001b[38;5;241m.\u001b[39m_file)\n\u001b[0;32m   9546\u001b[0m \u001b[38;5;28;01mif\u001b[39;00m \u001b[38;5;28misinstance\u001b[39m(\u001b[38;5;28mself\u001b[39m\u001b[38;5;241m.\u001b[39m_file, \u001b[38;5;28mstr\u001b[39m):\n\u001b[0;32m   9547\u001b[0m     \u001b[38;5;66;03m# file name\u001b[39;00m\n\u001b[1;32m-> 9548\u001b[0m     \u001b[38;5;28mself\u001b[39m\u001b[38;5;241m.\u001b[39m_file \u001b[38;5;241m=\u001b[39m \u001b[43mos\u001b[49m\u001b[38;5;241;43m.\u001b[39;49m\u001b[43mpath\u001b[49m\u001b[38;5;241;43m.\u001b[39;49m\u001b[43mrealpath\u001b[49m\u001b[43m(\u001b[49m\u001b[38;5;28;43mself\u001b[39;49m\u001b[38;5;241;43m.\u001b[39;49m\u001b[43m_file\u001b[49m\u001b[43m)\u001b[49m\n\u001b[0;32m   9549\u001b[0m     \u001b[38;5;28mself\u001b[39m\u001b[38;5;241m.\u001b[39m_dir, \u001b[38;5;28mself\u001b[39m\u001b[38;5;241m.\u001b[39m_name \u001b[38;5;241m=\u001b[39m os\u001b[38;5;241m.\u001b[39mpath\u001b[38;5;241m.\u001b[39msplit(\u001b[38;5;28mself\u001b[39m\u001b[38;5;241m.\u001b[39m_file)\n\u001b[0;32m   9550\u001b[0m     \u001b[38;5;28mself\u001b[39m\u001b[38;5;241m.\u001b[39m_fh \u001b[38;5;241m=\u001b[39m \u001b[38;5;28mopen\u001b[39m(\u001b[38;5;28mself\u001b[39m\u001b[38;5;241m.\u001b[39m_file, \u001b[38;5;28mself\u001b[39m\u001b[38;5;241m.\u001b[39m_mode)\n",
      "File \u001b[1;32mD:\\Anaconda\\envs\\fastai2\\lib\\ntpath.py:660\u001b[0m, in \u001b[0;36mrealpath\u001b[1;34m(path, strict)\u001b[0m\n\u001b[0;32m    658\u001b[0m     path \u001b[38;5;241m=\u001b[39m join(cwd, path)\n\u001b[0;32m    659\u001b[0m \u001b[38;5;28;01mtry\u001b[39;00m:\n\u001b[1;32m--> 660\u001b[0m     path \u001b[38;5;241m=\u001b[39m \u001b[43m_getfinalpathname\u001b[49m\u001b[43m(\u001b[49m\u001b[43mpath\u001b[49m\u001b[43m)\u001b[49m\n\u001b[0;32m    661\u001b[0m     initial_winerror \u001b[38;5;241m=\u001b[39m \u001b[38;5;241m0\u001b[39m\n\u001b[0;32m    662\u001b[0m \u001b[38;5;28;01mexcept\u001b[39;00m \u001b[38;5;167;01mOSError\u001b[39;00m \u001b[38;5;28;01mas\u001b[39;00m ex:\n",
      "\u001b[1;31mKeyboardInterrupt\u001b[0m: "
     ]
    }
   ],
   "source": [
    "loss_fn = nn.BCEWithLogitsLoss()\n",
    "optimizer = torch.optim.SGD(model.parameters(), lr=1e-4) # 0.0001\n",
    "epochs = 1000\n",
    "for t in range(epochs):\n",
    "    print(f\"Epoch {t+1}\\n-------------------------------\")\n",
    "    train(train_dataloader, model, loss_fn, optimizer)\n",
    "    test(test_dataloader, model, loss_fn)\n",
    "print(\"Done!\")"
   ]
  },
  {
   "cell_type": "code",
   "execution_count": null,
   "metadata": {},
   "outputs": [],
   "source": []
  }
 ],
 "metadata": {
  "interpreter": {
   "hash": "de88db708fd7569f2666ff37f921dc0f88a8459546879a55f00d65d0006c4c3e"
  },
  "kernelspec": {
   "display_name": "Python 3 (ipykernel)",
   "language": "python",
   "name": "python3"
  },
  "language_info": {
   "codemirror_mode": {
    "name": "ipython",
    "version": 3
   },
   "file_extension": ".py",
   "mimetype": "text/x-python",
   "name": "python",
   "nbconvert_exporter": "python",
   "pygments_lexer": "ipython3",
   "version": "3.10.4"
  }
 },
 "nbformat": 4,
 "nbformat_minor": 2
}
